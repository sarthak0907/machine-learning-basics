{
 "cells": [
  {
   "cell_type": "markdown",
   "metadata": {
    "colab_type": "text",
    "id": "FU-HwvIdH0M-"
   },
   "source": [
    "## Sentiment analysis <br> \n",
    "\n",
    "The objective of the problem is to perform Sentiment analysis from the tweets data collected from the users targeted at various mobile devices.\n",
    "Based on the tweet posted by a user (text), we will classify if the sentiment of the user targeted at a particular mobile device is positive or not."
   ]
  },
  {
   "cell_type": "markdown",
   "metadata": {
    "colab_type": "text",
    "id": "nAQDiZHRH0M_"
   },
   "source": [
    "### 1. Read the dataset (tweets.csv) and drop the NA's while reading the dataset"
   ]
  },
  {
   "cell_type": "code",
   "execution_count": 1323,
   "metadata": {},
   "outputs": [],
   "source": [
    "import pandas as pd"
   ]
  },
  {
   "cell_type": "code",
   "execution_count": 1324,
   "metadata": {
    "colab": {},
    "colab_type": "code",
    "id": "3eXGIe-SH0NA"
   },
   "outputs": [],
   "source": [
    "tweets = pd.read_csv(\"tweets.csv\", encoding=\"Unicode_escape\")"
   ]
  },
  {
   "cell_type": "code",
   "execution_count": 1325,
   "metadata": {},
   "outputs": [
    {
     "data": {
      "text/html": [
       "<div>\n",
       "<style scoped>\n",
       "    .dataframe tbody tr th:only-of-type {\n",
       "        vertical-align: middle;\n",
       "    }\n",
       "\n",
       "    .dataframe tbody tr th {\n",
       "        vertical-align: top;\n",
       "    }\n",
       "\n",
       "    .dataframe thead th {\n",
       "        text-align: right;\n",
       "    }\n",
       "</style>\n",
       "<table border=\"1\" class=\"dataframe\">\n",
       "  <thead>\n",
       "    <tr style=\"text-align: right;\">\n",
       "      <th></th>\n",
       "      <th>tweet_text</th>\n",
       "      <th>emotion_in_tweet_is_directed_at</th>\n",
       "      <th>is_there_an_emotion_directed_at_a_brand_or_product</th>\n",
       "    </tr>\n",
       "  </thead>\n",
       "  <tbody>\n",
       "    <tr>\n",
       "      <th>0</th>\n",
       "      <td>.@wesley83 I have a 3G iPhone. After 3 hrs twe...</td>\n",
       "      <td>iPhone</td>\n",
       "      <td>Negative emotion</td>\n",
       "    </tr>\n",
       "    <tr>\n",
       "      <th>1</th>\n",
       "      <td>@jessedee Know about @fludapp ? Awesome iPad/i...</td>\n",
       "      <td>iPad or iPhone App</td>\n",
       "      <td>Positive emotion</td>\n",
       "    </tr>\n",
       "  </tbody>\n",
       "</table>\n",
       "</div>"
      ],
      "text/plain": [
       "                                          tweet_text  \\\n",
       "0  .@wesley83 I have a 3G iPhone. After 3 hrs twe...   \n",
       "1  @jessedee Know about @fludapp ? Awesome iPad/i...   \n",
       "\n",
       "  emotion_in_tweet_is_directed_at  \\\n",
       "0                          iPhone   \n",
       "1              iPad or iPhone App   \n",
       "\n",
       "  is_there_an_emotion_directed_at_a_brand_or_product  \n",
       "0                                   Negative emotion  \n",
       "1                                   Positive emotion  "
      ]
     },
     "execution_count": 1325,
     "metadata": {},
     "output_type": "execute_result"
    }
   ],
   "source": [
    "tweets.head(2)"
   ]
  },
  {
   "cell_type": "code",
   "execution_count": 1326,
   "metadata": {},
   "outputs": [
    {
     "data": {
      "text/plain": [
       "(9092, 3)"
      ]
     },
     "execution_count": 1326,
     "metadata": {},
     "output_type": "execute_result"
    }
   ],
   "source": [
    "tweets.shape"
   ]
  },
  {
   "cell_type": "code",
   "execution_count": 1327,
   "metadata": {},
   "outputs": [],
   "source": [
    "df_tweets = tweets.dropna(subset = [\"tweet_text\"])"
   ]
  },
  {
   "cell_type": "code",
   "execution_count": 1328,
   "metadata": {},
   "outputs": [
    {
     "data": {
      "text/plain": [
       "(9092, 3)"
      ]
     },
     "execution_count": 1328,
     "metadata": {},
     "output_type": "execute_result"
    }
   ],
   "source": [
    "df_tweets.shape"
   ]
  },
  {
   "cell_type": "code",
   "execution_count": 1329,
   "metadata": {},
   "outputs": [
    {
     "data": {
      "text/html": [
       "<div>\n",
       "<style scoped>\n",
       "    .dataframe tbody tr th:only-of-type {\n",
       "        vertical-align: middle;\n",
       "    }\n",
       "\n",
       "    .dataframe tbody tr th {\n",
       "        vertical-align: top;\n",
       "    }\n",
       "\n",
       "    .dataframe thead th {\n",
       "        text-align: right;\n",
       "    }\n",
       "</style>\n",
       "<table border=\"1\" class=\"dataframe\">\n",
       "  <thead>\n",
       "    <tr style=\"text-align: right;\">\n",
       "      <th></th>\n",
       "      <th>tweet_text</th>\n",
       "      <th>emotion_in_tweet_is_directed_at</th>\n",
       "      <th>is_there_an_emotion_directed_at_a_brand_or_product</th>\n",
       "    </tr>\n",
       "  </thead>\n",
       "  <tbody>\n",
       "    <tr>\n",
       "      <th>0</th>\n",
       "      <td>.@wesley83 I have a 3G iPhone. After 3 hrs twe...</td>\n",
       "      <td>iPhone</td>\n",
       "      <td>Negative emotion</td>\n",
       "    </tr>\n",
       "    <tr>\n",
       "      <th>1</th>\n",
       "      <td>@jessedee Know about @fludapp ? Awesome iPad/i...</td>\n",
       "      <td>iPad or iPhone App</td>\n",
       "      <td>Positive emotion</td>\n",
       "    </tr>\n",
       "  </tbody>\n",
       "</table>\n",
       "</div>"
      ],
      "text/plain": [
       "                                          tweet_text  \\\n",
       "0  .@wesley83 I have a 3G iPhone. After 3 hrs twe...   \n",
       "1  @jessedee Know about @fludapp ? Awesome iPad/i...   \n",
       "\n",
       "  emotion_in_tweet_is_directed_at  \\\n",
       "0                          iPhone   \n",
       "1              iPad or iPhone App   \n",
       "\n",
       "  is_there_an_emotion_directed_at_a_brand_or_product  \n",
       "0                                   Negative emotion  \n",
       "1                                   Positive emotion  "
      ]
     },
     "execution_count": 1329,
     "metadata": {},
     "output_type": "execute_result"
    }
   ],
   "source": [
    "df_tweets.head(2)"
   ]
  },
  {
   "cell_type": "markdown",
   "metadata": {
    "colab_type": "text",
    "id": "jPJvTjefH0NI"
   },
   "source": [
    "### 2. Preprocess the text and add the preprocessed text in a column with name `text` in the dataframe."
   ]
  },
  {
   "cell_type": "code",
   "execution_count": 1330,
   "metadata": {
    "colab": {},
    "colab_type": "code",
    "id": "5iec5s9gH0NI"
   },
   "outputs": [],
   "source": [
    "def preprocess(text):\n",
    "    try:\n",
    "        return text.decode('ascii')\n",
    "    except Exception as e:\n",
    "        return \"\""
   ]
  },
  {
   "cell_type": "code",
   "execution_count": 1331,
   "metadata": {},
   "outputs": [
    {
     "name": "stdout",
     "output_type": "stream",
     "text": [
      "showing info https://raw.githubusercontent.com/nltk/nltk_data/gh-pages/index.xml\n"
     ]
    }
   ],
   "source": [
    "import nltk  \n",
    "nltk.download()\n",
    "from nltk.tokenize.toktok import ToktokTokenizer\n",
    "import re\n",
    "import unicodedata\n",
    "\n",
    "tokenizer = ToktokTokenizer()\n",
    "stopword_list = nltk.corpus.stopwords.words('english')\n",
    "\n",
    "def remove_special_characters(text, remove_digits=False):\n",
    "    pattern = r'[^a-zA-z0-9\\s]' if not remove_digits else r'[^a-zA-z\\s]'\n",
    "    text = re.sub(pattern, '', text)\n",
    "    return text\n",
    "\n",
    "def to_lower_case(text):\n",
    "    return text.lower()\n",
    "\n",
    "def remove_accented_chars(text):\n",
    "    text = unicodedata.normalize('NFKD', text).encode('ascii', 'ignore').decode('utf-8', 'ignore')\n",
    "    return text\n",
    "\n",
    "def remove_stopwords(text, is_lower_case=False):\n",
    "    tokens = tokenizer.tokenize(text)\n",
    "    tokens = [token.strip() for token in tokens]\n",
    "    if is_lower_case:\n",
    "        filtered_tokens = [token for token in tokens if token not in stopword_list]\n",
    "    else:\n",
    "        filtered_tokens = [token for token in tokens if token.lower() not in stopword_list]\n",
    "    filtered_text = ' '.join(filtered_tokens)    \n",
    "    return filtered_text"
   ]
  },
  {
   "cell_type": "code",
   "execution_count": 1332,
   "metadata": {},
   "outputs": [],
   "source": [
    "df_tweets['text'] = [to_lower_case(text) for text in df_tweets.tweet_text]\n",
    "df_tweets['text'] = [remove_special_characters(text) for text in df_tweets.tweet_text]\n",
    "df_tweets['text'] = [remove_accented_chars(text) for text in df_tweets.tweet_text]\n",
    "df_tweets['text'] = [remove_stopwords(text) for text in df_tweets.tweet_text]"
   ]
  },
  {
   "cell_type": "code",
   "execution_count": 1333,
   "metadata": {},
   "outputs": [
    {
     "data": {
      "text/html": [
       "<div>\n",
       "<style scoped>\n",
       "    .dataframe tbody tr th:only-of-type {\n",
       "        vertical-align: middle;\n",
       "    }\n",
       "\n",
       "    .dataframe tbody tr th {\n",
       "        vertical-align: top;\n",
       "    }\n",
       "\n",
       "    .dataframe thead th {\n",
       "        text-align: right;\n",
       "    }\n",
       "</style>\n",
       "<table border=\"1\" class=\"dataframe\">\n",
       "  <thead>\n",
       "    <tr style=\"text-align: right;\">\n",
       "      <th></th>\n",
       "      <th>tweet_text</th>\n",
       "      <th>emotion_in_tweet_is_directed_at</th>\n",
       "      <th>is_there_an_emotion_directed_at_a_brand_or_product</th>\n",
       "      <th>text</th>\n",
       "    </tr>\n",
       "  </thead>\n",
       "  <tbody>\n",
       "    <tr>\n",
       "      <th>0</th>\n",
       "      <td>.@wesley83 I have a 3G iPhone. After 3 hrs twe...</td>\n",
       "      <td>iPhone</td>\n",
       "      <td>Negative emotion</td>\n",
       "      <td>.@wesley83 3G iPhone. 3 hrs tweeting #RISE_Aus...</td>\n",
       "    </tr>\n",
       "    <tr>\n",
       "      <th>1</th>\n",
       "      <td>@jessedee Know about @fludapp ? Awesome iPad/i...</td>\n",
       "      <td>iPad or iPhone App</td>\n",
       "      <td>Positive emotion</td>\n",
       "      <td>@jessedee Know @fludapp ? Awesome iPad/iPhone ...</td>\n",
       "    </tr>\n",
       "    <tr>\n",
       "      <th>2</th>\n",
       "      <td>@swonderlin Can not wait for #iPad 2 also. The...</td>\n",
       "      <td>iPad</td>\n",
       "      <td>Positive emotion</td>\n",
       "      <td>@swonderlin wait #iPad 2 also. sale #SXSW .</td>\n",
       "    </tr>\n",
       "    <tr>\n",
       "      <th>3</th>\n",
       "      <td>@sxsw I hope this year's festival isn't as cra...</td>\n",
       "      <td>iPad or iPhone App</td>\n",
       "      <td>Negative emotion</td>\n",
       "      <td>@sxsw hope year ' festival ' crashy year ' iPh...</td>\n",
       "    </tr>\n",
       "    <tr>\n",
       "      <th>4</th>\n",
       "      <td>@sxtxstate great stuff on Fri #SXSW: Marissa M...</td>\n",
       "      <td>Google</td>\n",
       "      <td>Positive emotion</td>\n",
       "      <td>@sxtxstate great stuff Fri #SXSW : Marissa May...</td>\n",
       "    </tr>\n",
       "  </tbody>\n",
       "</table>\n",
       "</div>"
      ],
      "text/plain": [
       "                                          tweet_text  \\\n",
       "0  .@wesley83 I have a 3G iPhone. After 3 hrs twe...   \n",
       "1  @jessedee Know about @fludapp ? Awesome iPad/i...   \n",
       "2  @swonderlin Can not wait for #iPad 2 also. The...   \n",
       "3  @sxsw I hope this year's festival isn't as cra...   \n",
       "4  @sxtxstate great stuff on Fri #SXSW: Marissa M...   \n",
       "\n",
       "  emotion_in_tweet_is_directed_at  \\\n",
       "0                          iPhone   \n",
       "1              iPad or iPhone App   \n",
       "2                            iPad   \n",
       "3              iPad or iPhone App   \n",
       "4                          Google   \n",
       "\n",
       "  is_there_an_emotion_directed_at_a_brand_or_product  \\\n",
       "0                                   Negative emotion   \n",
       "1                                   Positive emotion   \n",
       "2                                   Positive emotion   \n",
       "3                                   Negative emotion   \n",
       "4                                   Positive emotion   \n",
       "\n",
       "                                                text  \n",
       "0  .@wesley83 3G iPhone. 3 hrs tweeting #RISE_Aus...  \n",
       "1  @jessedee Know @fludapp ? Awesome iPad/iPhone ...  \n",
       "2        @swonderlin wait #iPad 2 also. sale #SXSW .  \n",
       "3  @sxsw hope year ' festival ' crashy year ' iPh...  \n",
       "4  @sxtxstate great stuff Fri #SXSW : Marissa May...  "
      ]
     },
     "execution_count": 1333,
     "metadata": {},
     "output_type": "execute_result"
    }
   ],
   "source": [
    "df_tweets.head()"
   ]
  },
  {
   "cell_type": "markdown",
   "metadata": {
    "colab_type": "text",
    "id": "OGWB3P2WH0NY"
   },
   "source": [
    "### 3. Consider only rows having Positive emotion and Negative emotion and remove other rows from the dataframe."
   ]
  },
  {
   "cell_type": "code",
   "execution_count": 1334,
   "metadata": {
    "colab": {},
    "colab_type": "code",
    "id": "bdgA_8N2H0NY"
   },
   "outputs": [],
   "source": [
    "emotion_colname = \"is_there_an_emotion_directed_at_a_brand_or_product\""
   ]
  },
  {
   "cell_type": "code",
   "execution_count": 1335,
   "metadata": {
    "colab": {},
    "colab_type": "code",
    "id": "_Jlu-reIH0Na"
   },
   "outputs": [],
   "source": [
    "df_tweets1 = df_tweets[df_tweets[emotion_colname].isin([\"Negative emotion\",\"Positive emotion\"])]"
   ]
  },
  {
   "cell_type": "code",
   "execution_count": 1336,
   "metadata": {},
   "outputs": [
    {
     "data": {
      "text/plain": [
       "(3548, 4)"
      ]
     },
     "execution_count": 1336,
     "metadata": {},
     "output_type": "execute_result"
    }
   ],
   "source": [
    "df_tweets1.shape"
   ]
  },
  {
   "cell_type": "markdown",
   "metadata": {
    "colab_type": "text",
    "id": "SotCRvkDH0Nf"
   },
   "source": [
    "### 4. Represent text as numerical data using `CountVectorizer` and get the document term frequency matrix\n",
    "\n",
    "#### Use `vect` as the variable name for initialising CountVectorizer."
   ]
  },
  {
   "cell_type": "code",
   "execution_count": 1337,
   "metadata": {
    "colab": {},
    "colab_type": "code",
    "id": "YcbkY4sgH0Ng"
   },
   "outputs": [],
   "source": [
    "from sklearn.feature_extraction.text import CountVectorizer"
   ]
  },
  {
   "cell_type": "code",
   "execution_count": 1338,
   "metadata": {
    "colab": {},
    "colab_type": "code",
    "id": "KyXtZGr-H0Nl"
   },
   "outputs": [],
   "source": [
    "# create the transform\n",
    "vectorizer = CountVectorizer()"
   ]
  },
  {
   "cell_type": "code",
   "execution_count": 1339,
   "metadata": {
    "colab": {},
    "colab_type": "code",
    "id": "Z4LUM-XPH0Nn"
   },
   "outputs": [
    {
     "data": {
      "text/plain": [
       "CountVectorizer()"
      ]
     },
     "execution_count": 1339,
     "metadata": {},
     "output_type": "execute_result"
    }
   ],
   "source": [
    "vectorizer.fit(df_tweets1[\"text\"])"
   ]
  },
  {
   "cell_type": "code",
   "execution_count": 1340,
   "metadata": {},
   "outputs": [
    {
     "name": "stdout",
     "output_type": "stream",
     "text": [
      "{'wesley83': 5718, '3g': 92, 'iphone': 2802, 'hrs': 2582, 'tweeting': 5434, 'rise_austin': 4394, 'dead': 1377, 'need': 3514, 'upgrade': 5522, 'plugin': 3934, 'stations': 4896, 'sxsw': 5052, 'jessedee': 2856, 'know': 2958, 'fludapp': 2037, 'awesome': 517, 'ipad': 2792, 'app': 384, 'likely': 3078, 'appreciate': 405, 'design': 1441, 'also': 308, 'giving': 2249, 'free': 2105, 'ts': 5402, 'swonderlin': 5043, 'wait': 5644, 'sale': 4450, 'hope': 2554, 'year': 5870, 'festival': 1964, 'crashy': 1262, 'sxtxstate': 5080, 'great': 2327, 'stuff': 4964, 'fri': 2111, 'marissa': 3253, 'mayer': 3287, 'google': 2289, 'tim': 5272, 'reilly': 4277, 'tech': 5146, 'books': 709, 'conferences': 1138, 'amp': 331, 'matt': 3279, 'mullenweg': 3470, 'wordpress': 5808, 'starting': 4888, 'ctia': 1305, 'around': 430, 'corner': 1213, 'googleio': 2297, 'hop': 2553, 'skip': 4705, 'jump': 2894, 'good': 2282, 'time': 5274, 'android': 342, 'fan': 1904, 'beautifully': 606, 'smart': 4734, 'simple': 4674, 'idea': 2616, 'rt': 4429, 'madebymany': 3205, 'thenextweb': 5215, 'wrote': 5842, 'hollergram': 2532, 'http': 2588, 'bit': 665, 'ly': 3187, 'ieavob': 2627, 'counting': 1231, 'days': 1375, 'plus': 3936, 'strong': 4954, 'canadian': 865, 'dollar': 1567, 'means': 3299, 'stock': 4918, 'apple': 394, 'gear': 2193, 'excited': 1831, 'meet': 3307, 'samsungmobileus': 4457, 'show': 4646, 'sprint': 4864, 'galaxy': 2170, 'still': 4915, 'running': 4440, 'fail': 1894, 'find': 1992, 'start': 4886, 'impromptu': 2667, 'parties': 3783, 'hurricaneparty': 2599, 'gvlrin': 2380, 'til': 5270, 'comes': 1092, 'foursquare': 2092, 'ups': 5527, 'game': 2173, 'mp': 3462, 'grn7pk': 2339, 'prefer': 4005, 'gowalla': 2309, 'far': 1914, 'best': 636, 'looking': 3140, 'date': 1365, 'gotta': 2304, 'love': 3160, 'calendar': 846, 'featuring': 1943, 'top': 5322, 'cases': 893, 'check': 967, 'out': 3704, 'hamsandwich': 2403, 'via': 5589, 'ischafer': 2820, 'gt': 2360, 'axzwxb': 524, 'tinyurl': 5283, 'com': 1085, '4nqv92l': 110, 'haha': 2393, 'awesomely': 518, 'rad': 4167, 'htdfim': 2584, 'noticed': 3590, 'dst': 1633, 'coming': 1096, 'weekend': 5708, 'many': 3239, 'users': 5547, 'hour': 2572, 'late': 2995, 'come': 1089, 'sunday': 4997, 'morning': 3442, 'added': 216, 'flights': 2027, 'planely': 3905, 'matching': 3276, 'people': 3833, 'planes': 3906, 'airports': 278, 'downloaded': 1600, 'klm': 2951, 'nicely': 3557, 'done': 1578, 'must': 3484, 'malbonster': 3227, 'lovely': 3164, 'review': 4360, 'forbes': 2072, 'holler': 2531, 'gram': 2316, 'co': 1061, 'g4gzypv': 2159, 'buy': 829, 'ipad2': 2794, 'austin': 483, 'sure': 5010, 'store': 4928, 'oh': 3641, 'my': 3489, 'god': 2264, 'pure': 4115, 'unadulterated': 5468, 'easier': 1664, 'browse': 789, 'events': 1803, 'website': 5703, 'okay': 3644, 'really': 4214, 'yay': 5866, 'new': 3537, '11': 16, 'kthxbai': 2965, 'photo': 3860, 'installed': 2738, 'nice': 3556, 'tumblr': 5409, 'x6t1pi6av7': 5851, 'enjoying': 1750, 'changes': 944, 'forward': 2088, 'seeing': 4538, 'else': 1711, 'sleeves': 4715, 'laurieshook': 3010, 'smcdallas': 4743, 'pre': 4001, 'party': 3788, 'wed': 5706, 'hoping': 2557, 'win': 5753, 'resulting': 4346, 'shameless': 4603, 'promotion': 4074, 'chevysmc': 978, 'michaelpiliero': 3345, 'someone': 4796, 'started': 4887, 'partnerhub': 3785, 'group': 2344, 'groups': 2349, '4sq3': 112, 'looks': 3142, 'like': 3075, 'going': 2274, 'rock': 4405, 'update': 5518, 'push': 4118, 'tonight': 5311, 'etsbzk': 1791, 'keepaustinweird': 2911, 'right': 4383, 'sweeeeet': 5032, 'job': 2864, 'team': 5139, 'there': 5219, 'a3xvwc6': 167, 'may': 3285, 'leave': 3035, 'vuvuzela': 5640, 'home': 2538, 'itunes': 2831, 'us': 5535, 'id420666439': 2615, 'mt': 3468, 'mention': 3324, 'ha': 2385, 'first': 2004, 'line': 3086, 'quot': 4161, 'pop': 3956, 'up': 5515, 'event': 1800, 'planner': 3908, 'eventprofs': 1802, 'pcma': 3816, 'engage365': 1740, 'false': 1900, 'alarm': 286, 'circles': 1009, 'now': 3597, 'ûòand': 5951, 'probably': 4052, 'ever': 1806, 'link': 3090, 'social': 4770, 'weather': 5693, 'greet': 2331, 'sweater': 5031, 'night': 3562, 'putting': 4125, 'flash': 2018, 'downtown': 1605, 'sell': 4552, 'smartcover': 4735, 'ûª': 5935, 'opens': 3670, 'instant': 2741, 'access': 182, 'waited': 5645, 'get': 2223, 'one': 3656, 'hand': 2404, 'held': 2473, 'hobo': 2524, 'drafthouse': 1607, 'launches': 3007, 'shotgun': 4640, 'hooray': 2549, 'ûï': 5940, 'opening': 3669, '124': 21, 'wooooo': 5803, 'open': 3664, 'midnight': 3352, 'talking': 5116, 'effort': 1696, 'allow': 299, 'systems': 5093, 'bettercloud': 643, '1st': 51, 'stop': 4924, 'chaos': 948, 'hunt': 2597, 'java': 2844, 'spy': 4865, 'chance': 939, 'omfg': 3650, 'heard': 2459, 'pics': 3872, 'already': 307, 'insane': 2723, 'attending': 467, 'headaches': 2450, 'boooo': 712, 'flipboard': 2029, 'developing': 1465, 'version': 5584, 'says': 4480, 'power': 3988, 'sxswi': 5066, 'it': 2825, 'bands': 551, 'food': 2061, 'art': 435, 'ice': 2611, 'cream': 1269, 'nifty': 3561, 'interactive': 2754, 'maps': 3245, 'holla': 2530, 'butt': 825, 'here': 2482, 'case': 892, 'phone': 3858, 'post': 3979, 'makes': 3223, 'easy': 1667, 'connect': 1149, 'networks': 3533, 'behaving': 619, 'today': 5303, 'crashes': 1260, 'yesterday': 5880, 'ridiculous': 4378, 'hey': 2484, 'fans': 1911, 'peek': 3824, 'space': 4823, 'slated': 4711, 'tomorrow': 5307, 'thing': 5227, 'earth': 1659, 'face': 1884, 'company': 1111, 'sxwsi': 5081, 'thanks': 5199, 'speech': 4836, 'apps': 412, 'showcased': 4648, 'conf': 1136, 'sxswh': 5065, 'sxsh': 5050, 'provide': 4086, 'chargers': 953, 'changed': 942, 'mind': 3365, 'next': 3549, 'xmas': 5856, 'shiny': 4622, 'garyvee': 2182, 'book': 707, 'stores': 4929, 'christmas': 999, 'nerds': 3523, 'yai': 5863, 'ubersocial': 5452, 'includes': 2684, 'uberguide': 5451, 'sponsored': 4855, 'cont': 1169, 'fast': 1922, 'fun': 2142, 'future': 2149, 'presenting': 4025, 'search': 4523, 'local': 3117, 'mobile': 3405, 'headline': 2453, 'have': 2439, 'gadget': 2161, 'hmm': 2521, 'could': 1228, 'seen': 4543, 'dataviz': 1364, 'translates': 5366, 'satanic': 4465, 'sayin': 4478, 'launched': 3006, 'checkins': 970, 'month': 3432, 'ago': 261, 'ins': 2722, 'ok': 3643, 'outs': 3710, 'bizzy': 668, 'tweet': 5427, 'think': 5230, 'speak': 4830, 'mark': 3257, 'belinsky': 623, '911tweets': 149, 'panel': 3755, 'kawasaki': 2909, 'lewis': 3059, 'level': 3057, 'reasoning': 4220, 'continued': 1177, 'existence': 1842, 'evidence': 1816, 'bawling': 592, 'pagemaker': 3744, 'saved': 4470, 'jwtatl': 2904, 'enchantment': 1731, 'spark': 4825, 'teamandroid': 5141, 'award': 511, 'read': 4202, 'thoughts': 5245, 'japan': 2841, 'apac': 379, 'regions': 4266, 'dealing': 1381, 'earthquake': 1661, 'tsunami': 5404, 'trauma': 5370, 'schools': 4504, 'marketing': 3262, 'experts': 1857, 'temporary': 5174, 'def': 1399, 'tent': 5181, 'powerhouse': 3991, 'gym': 2381, '6th': 131, 'congress': 1148, 'along': 304, '10': 5, '000': 0, 'happy': 2424, 'hipsters': 2508, 'wins': 5762, 'support': 5005, 'launch': 3005, 'trending': 5378, 'nerdy': 3525, 'christian': 998, 'devs': 1470, 'want': 5664, 'talk': 5114, 'maybe': 3286, 'wk': 5784, 'together': 5304, 'cool': 1196, 'taken': 5106, 'storm': 4931, 'part': 3779, 'haz': 2446, 'ifrom': 2629, 'gr8': 2312, 'stacks': 4873, 'waiting': 5646, 'bought': 729, 'got': 2303, 'mine': 3373, 'hassle': 2434, 'all': 296, 'handled': 2408, 'perfectly': 3839, 'smallbiz': 4732, 'reviews': 4361, 'play': 3915, 'places': 3899, 'seo': 4563, 'take': 5104, 'major': 3219, 'south': 4819, 'korean': 2963, 'director': 1506, 'gets': 2225, '130': 25, 'make': 3221, 'movie': 3458, 'entirely': 1761, 'beautiful': 605, 'pic': 3867, 'sneaky': 4766, 'usual': 5552, 'beta': 640, 'testing': 5189, 'moonbot': 3437, 'studios': 4961, 'louisiana': 3157, 'day': 1373, 'ton': 5308, 'sold': 4785, 'everything': 1813, 'except': 1828, '64gig': 127, 'wifi': 5743, 'white': 5728, 'manage': 3231, 'known': 2961, 'jeans': 2850, 'configuration': 1140, 'offered': 3629, 'promo': 4072, 'ninjafinder': 3569, 'sucks': 4983, 'poursite': 3987, 'learning': 3029, 'life': 3065, 'changing': 945, 'impact': 2653, 'real': 4207, 'actual': 208, 'lives': 3105, 'bravo': 751, 'lonelyplanet': 3132, 'guide': 2369, 'limited': 3083, 'lp': 3174, 'travel': 5371, 'short': 4635, 'lines': 3087, 'left': 3038, 'tradeshow': 5356, 'demo': 1425, 'theatre': 5206, 'see': 4537, 'presenters': 4024, 'using': 5550, 'anyone': 371, 'quick': 4154, 'hundred': 2593, 'dollars': 1568, 'ad': 210, 'hoc': 2525, 'cost': 1222, 'monday': 3424, 'barry': 567, 'diller': 1499, 'york': 5887, 'times': 5279, 'lunch': 3182, 'hotel': 2567, 'six': 4692, 'dirty': 1508, 'martinis': 3266, 'mondays': 3425, 'seriously': 4568, 'constant': 1162, 'causing': 908, 'lost': 3151, 'schedules': 4499, 'sync': 5086, 'wp7': 5832, 'ready': 4206, 'ur': 5531, 'blogging': 688, 'conflagration': 1143, 'doofusness': 1586, 'attention': 468, 'ers': 1779, 'rumored': 4435, 'needs': 3516, 'went': 5717, 'lousy': 3159, 'winning': 5761, 'picture': 3873, 'spent': 4843, 'used': 5542, 'couple': 1233, 'city': 1014, 'blocks': 684, 'behind': 621, '100s': 7, 'emails': 1714, 'give': 2244, 'composed': 1126, 'replies': 4315, 'protip': 4082, '10pm': 14, 'block': 681, 'popup': 3963, 'selling': 4553, 'ipad2s': 2795, '2s': 73, 'wild': 5746, 'say': 4477, 'terrible': 5186, 'takes': 5108, 'video': 5595, 'snapping': 4763, 'away': 515, 'keynote': 2920, 'slides': 4719, 'southwest': 4822, 'sweet': 5035, 'ballroom': 547, '35': 86, 'million': 3362, 'miles': 3358, 'per': 3835, 'driving': 1621, 'navigation': 3506, 'growing': 2351, 'band': 550, 'share': 4605, 'track': 5348, 'audience': 476, 'stage': 4875, 'use': 5541, 'frostwire': 2124, 'wi': 5738, 'fi': 1970, 'available': 502, 'car': 876, 'zimride': 5911, 'etc': 1789, 'rides': 4375, 'shareable': 4606, 'picked': 3869, 'mophie': 3439, 'battery': 585, 'prep': 4014, 'lugging': 3181, 'laptop': 2985, 'huge': 2591, 'last': 2992, 'rumor': 4434, 'monger': 3428, 'å_': 5926, 'preview': 4033, 'socbiz': 4769, 'fb': 1938, 'yes': 5879, 'please': 3926, 'build': 805, 'less': 3048, '24': 62, 'hours': 2573, 'biggest': 654, 'history': 2514, 'this': 5237, 'groupme': 2347, 'sounds': 4816, 'incredible': 2688, 'phones': 3859, 'yet': 5881, 'alarms': 287, 'botch': 725, 'timechange': 5275, 'freak': 2103, 'missed': 3385, 'panels': 3758, 'bloody': 690, 'marys': 3268, 'shouts': 4645, 'ladies': 2974, 'holding': 2528, 'shows': 4653, 'photos': 3863, 'sipping': 4684, 'beer': 612, 'cc': 911, 'meant': 3300, 'wish': 5773, 'dyac': 1646, 'stupid': 4969, 'rumors': 4436, 'signs': 4669, 'point': 3942, '15': 30, 'minute': 3380, 'brilliant': 774, 'enlightening': 1752, 'mechanics': 3305, 'presentation': 4022, 'sales': 4451, 'genius': 2215, 'dictaphone': 1477, 'vid': 5594, 'camera': 858, 'wow': 5829, 'cerebellum': 927, 'charged': 951, 'personal': 3847, 'found': 2090, 'kyping': 2968, 'geolocation': 2220, 'releasing': 4288, 'background': 529, 'patch': 3801, 'batterykiller': 586, 'live': 3103, 'rsvp': 4428, 'sundayswagger': 4998, 'eventbrite': 1801, '20': 52, 'scoremore': 4512, 'course': 1235, 'built': 808, 'temp': 5171, 'texas': 5193, 'understand': 5478, 'concept': 1131, 'corralling': 1218, 'cattle': 905, 'pickmeupanipad2': 3871, 'let': 3050, 'something': 4798, 'retail': 4349, 'near': 3511, 'keep': 2910, 'surprise': 5015, 'opened': 3667, 'town': 5346, 'cnet': 1054, 'ipads': 2801, 'example': 1824, 'layed': 3016, 'registers': 4268, 'checkout': 971, 'gswsxsw': 2359, 'traffic': 5357, 'noon': 3578, 'fresh': 2110, 'shipment': 4623, 'pretty': 4031, 'fingers': 1999, 'crossed': 1289, 'technews': 5155, 'saves': 4471, 'set': 4581, 'tech_news': 5148, 'lt': 3175, 'true': 5392, 'loathe': 3114, 'blogs': 689, 'atx': 473, 'mall': 3228, '10x': 15, 'crowded': 1293, 'fake': 1899, 'fucking': 2135, 'dongle': 1579, 'in': 2676, 'makeshift': 3224, 'kidding': 2932, 'me': 3294, 'amazing': 318, 'fanboy': 1906, 'shit': 4627, 'temptation': 5176, 'control': 1181, '5pm': 122, 'view': 5600, 'io': 2788, 'office': 3632, 'news': 3541, 'you': 5888, 'ûªll': 5936, '150': 31, 'atåê': 475, 'software': 4783, 'development': 1466, 'release': 4285, 'working': 5814, 'overheard': 3717, 'relaxing': 4284, 'computer': 1127, 'agreed': 263, 'arg': 422, 'hate': 2435, 'blackberry': 671, 'back': 528, 'shocked': 4630, 'technology': 5158, 'go': 2262, 'everbody': 1807, 'media': 3306, 'driven': 1618, 'revolutions': 4365, 'better': 642, 'long': 3133, 'work': 5810, 'rather': 4194, 'agileagency': 259, 'knackered': 2952, 'playing': 3922, 'updating': 5521, 'timeline': 5277, 'smashed': 4742, 'partytweets': 3790, 'bed': 610, 'mdw': 3293, 'second': 4533, 'halfway': 2399, 'even': 1798, 'boarded': 702, 'plane': 3904, 'amateurhour': 317, 'jobs_co': 2866, 'final': 1987, 'doodles': 1585, 'googledoodle': 2294, 'crowd': 1291, 'tripping': 5386, 'aclu': 195, '80': 135, 'laughed': 3004, 'week': 5707, 'hauling': 2438, 'macbook': 3194, 'everywhere': 1815, 'shoulder': 4643, 'rub': 4430, 'attendees': 466, 'qr': 4131, 'code': 1066, 'reader': 4203, 'image': 2643, 'badge': 535, 'optiscan': 3679, 'four': 2091, 'took': 5316, 'lego': 3040, 'pit': 3888, 'replaced': 4310, 'recharging': 4229, 'station': 4895, 'might': 3356, 'prices': 4037, 'crap': 1252, 'samsung': 4456, 'bad': 534, 'qs': 4135, 'process': 4054, 'poo': 3951, 'poos': 3955, 'ideas': 2618, 'leaves': 3036, 'early': 1654, 'creative': 1274, 'busy': 823, 'gamestorming': 2178, 'trying': 5401, 'balance': 543, 'vs': 5636, 'airplane': 276, 'mode': 3412, '100': 6, 'tweets': 5435, 'precommerce': 4003, 'watch': 5678, 'ipadmadness': 2800, 'shop': 4633, 'core': 1212, 'action': 201, 'celebrate': 913, 'beauty': 607, 'web': 5694, 'msft': 3467, 'ie9': 2626, 'html5': 2586, 'gave': 2187, 'money': 3427, 'relief': 4292, 'improve': 2668, 'beyond': 647, 'sharing': 4609, 'positive': 3973, 'actions': 202, 'world': 5817, 'download': 1599, 'earthhour': 1660, '60': 124, 'bing': 659, 'bettersearch': 644, 'shot': 4639, 'success': 4976, 'structured': 4955, 'potentially': 3985, 'higher': 2492, 'margin': 3251, 'cpa': 1247, 'model': 3413, 'results': 4347, 'qagb': 4129, 'impulsive': 2673, 'friends': 2118, 'too': 5313, 'gen': 2209, '32gb': 85, 'buying': 831, 'geekdate': 2197, 'present': 4021, 'rsq': 4427, 'tuxedo': 5421, 'lose': 3148, 'exciting': 1833, 'can': 863, 'ûªt': 5939, 'certain': 929, 'meetings': 3310, 'hello': 2475, 'dont': 1581, 'miss': 3384, 'charles': 958, 'chen': 976, 'chromeos': 1001, 'booth': 714, 'exhibit': 1839, 'hall': 2400, '1pm': 50, 'guess': 2365, 'desperate': 1451, 'locations': 3122, 'considering': 1159, 'leaving': 3037, 'pro': 4050, 'flying': 2042, 'solo': 4788, 'shipments': 4624, 'daily': 1338, 'follow': 2053, 'appleatxdt': 397, 'updates': 5520, 'seems': 4542, 'battlela': 589, 'secret': 4535, 'batphone': 582, 'tv': 5422, 'league': 3023, 'extraordinary': 1874, 'hackers': 2390, 'lxh': 3186, 'big': 652, 'chunky': 1004, 'elements': 1707, 'generous': 2214, 'clarity': 1018, 'trumps': 5395, 'density': 1437, 'tap': 5119, 'quality': 4140, 'quantity': 4141, 'tapworthy': 5120, 'designing': 1446, 'interfaces': 2758, 'schemas': 4501, 'lovin': 3169, 'digital': 1495, 'sings': 4682, 'plays': 3923, 'guitar': 2374, 'record': 4243, 'vids': 5599, 'cnn': 1055, 'cnngrill': 1056, 'thinks': 5232, 'content': 1171, 'nuts': 3608, 'another': 357, 'network': 3531, 'docomo': 1554, 'introduced': 2772, 'years': 5871, 'came': 857, 'jpmobilesummit': 2884, 'jeez': 2852, 'guys': 2379, 'dunno': 1642, 'gold': 2275, 'realize': 4210, 'un': 5465, 'jobs': 2865, 'aesthetic': 245, 'begins': 616, 'tc': 5132, 'techcrunch': 5149, 'winsåê': 5763, 'gonna': 2279, 'sum': 4993, 'pm': 3937, 'winsåêsxsw': 5764, 'badgeless': 536, 'drinks': 1616, 'heading': 2452, 'semantic': 4556, 'fogo': 2050, 'de': 1376, 'chìáo': 1005, 'swag': 5028, 'charging': 956, 'timing': 5280, 'brand': 748, 'winner': 5759, 'pnid': 3938, 'exhibitors': 1840, 'capture': 874, 'experience': 1852, 'retrollect': 4351, 'disc': 1515, 'popular': 3961, 'fantastic': 1912, 'schedule': 4496, 'bummer': 813, 'crackberry': 1250, 'accessory': 186, 'followed': 2054, 'closely': 1041, 'margarita': 3250, 'fav': 1931, 'fell': 1955, 'throwing': 5255, 'nerd': 3518, 'speakeasy': 4831, 'way': 5686, 'figure': 1976, 'replacement': 4311, 'making': 3225, 'stream': 4942, 'inane': 2677, 'surely': 5011, 'southby': 4820, 'hottest': 2571, 'spots': 4859, 'hot': 2566, 'focusing': 2048, 'bridging': 768, 'physical': 3865, 'divide': 1544, 'eg': 1698, 'streetview': 4946, 'hotpot': 2569, 'autonomous': 500, 'folks': 2052, 'posted': 3980, 'blast': 675, 'customers': 1324, 'alcoholics': 290, 'call': 849, 'enabling': 1728, 'rest': 4337, 'bound': 731, 'fanboys': 1908, 'list': 3095, 'ntn': 3602, 'helps': 2480, 'field': 1971, 'kids': 2933, 'hitlantis': 2517, 'song': 4800, 'explorer': 1863, 'musicviz': 3480, 'willing': 5749, 'pick': 3868, 'pay': 3809, 'premium': 4013, 'dm': 1550, 'atl': 458, 'akqas': 282, 'interface': 2757, 'callback': 851, 'principles': 4040, 'examples': 1825, 'person': 3846, 'front': 2121, 'outside': 3711, 'word': 5806, 'forget': 2078, 'snap': 4762, 'air': 273, 'getting': 2226, 'full': 2139, 'underway': 5480, 'tell': 5169, 'intermittent': 2759, 'brick': 766, 'labs': 2972, 'laptops': 2986, 'source': 4818, 'coders': 1068, 'cupcake': 1310, 'windows': 5755, 'addition': 223, 'afraid': 249, 'omg': 3651, 'iphone4': 2803, 'ipod': 2806, 'tab': 5095, 'techgeek': 5151, 'golden': 2276, 'tickets': 5265, '4sq': 111, 'redbullbpm': 4254, 'felix': 1954, 'da': 1334, 'housecat': 2575, 'gsd': 2357, 'blowing': 692, 'much': 3469, 'drink': 1615, 'music': 3477, 'authenticator': 491, 'devices': 1469, 'step': 4909, 'ahead': 265, 'alternative': 311, 'facebook': 1885, 'lets': 3051, 'sites': 4690, 'stand': 4876, 'blocking': 683, 'length': 3045, 'penalty': 3829, 'based': 572, 'severity': 4591, 'breach': 754, 'webmaster': 5701, 'guidelines': 2370, 'text': 5195, 'bgr': 650, '30': 76, 'pen': 3828, 'called': 852, 'possibly': 3978, 'never': 3535, 'beat': 603, 'myspace': 3493, 'bigger': 653, 'gaga': 2165, 'super': 5002, 'interesting': 2756, 'applause': 393, 'privacy': 4046, 'attempt': 463, 'worlds': 5818, 'contextual': 1175, 'discovery': 1520, 'location': 3121, 'context': 1174, 'deeper': 1398, 'searches': 4525, 'without': 5780, 'googletv': 2300, 'connected': 1150, 'connectedtv': 1153, 'fascinating': 1919, 'cnnmoney': 1057, 'craving': 1264, 'minds': 3369, 'created': 1271, 'foodspotting': 2065, 'dude': 1637, 'cutsies': 1329, 'smtravel': 4752, 'plans': 3910, 'socnet': 4780, 'learned': 3028, 'lot': 3152, 'lots': 3153, 'invites': 2786, 'two': 5444, 'pocket': 3939, 'place': 3898, 'hawk': 2443, 'enjoy': 1748, 'ride': 4374, 'anywhere': 376, 'groundlink': 2343, '437': 101, 'lordy': 3146, 'pulling': 4105, 'trigger': 5384, 'loved': 3161, 'honesty': 2542, 'products': 4059, 'customer': 1323, 'service': 4576, 'bout': 733, 'donating': 1576, 'spending': 4842, 'wondering': 5799, 'revenue': 4359, 'grossed': 2341, 'account': 191, 'amid': 326, 'strategic': 4939, 'cell': 916, 'glad': 2250, 'lifelinetotheworld': 3067, 'feeling': 1950, 'worst': 5824, 'try': 5400, 'everyone': 1812, 'techiesunite': 5154, 'runs': 4441, 'juice': 2889, 'holy': 2536, 'cow': 1244, 'hooked': 2547, 'paolo': 3765, 'alex': 293, 'backup': 532, 'charger': 952, 'powermat': 3993, 'powermatteam': 3994, 'powermattteam': 3995, 'catch': 901, '22': 60, 'û_': 5934, 'mean': 3296, 'knew': 2953, 'plied': 3929, 'stogies': 4919, 'weasel': 5692, 'thought': 5243, 'would': 5828, 'touched': 5337, 'once': 3655, 'hmmzies': 2523, 'convention': 1186, 'center': 918, 'fam': 1901, 'showing': 4652, 'frustrated': 2128, 'moment': 3419, 'runaround': 4439, 'att': 461, 'startupbus': 4891, 'addictive': 220, 'spot': 4858, 'data': 1362, 'speed': 4837, 'ios': 2789, 'ppl': 3997, 'friday': 2115, 'queue': 4151, 'centre': 921, 'xd': 5853, 'figuring': 1977, 'wot': 5827, 'clip': 1036, 'joins': 2872, 'sxswgo': 5063, 'room': 4417, 'run': 4438, 'others': 3701, 'cnt': 1059, 'ignite': 2630, 'supporting': 5006, 'smarty': 4741, 'ears': 1658, 'therapy': 5218, 'mac': 3192, 'goodness': 2286, 'zite': 5914, 'intelligent': 2749, 'magazine': 3209, 'deliciousness': 1415, 'youneedthis': 5889, 'interested': 2755, 'indoor': 2696, 'venues': 5580, 'businesses': 822, 'centers': 919, 'soo': 4804, 'invisible': 2783, 'instruments': 2744, 'jaw': 2846, 'dropping': 1626, 'wii': 5744, 'controller': 1182, 'lovemusicapi': 3165, 'rockin': 4408, 'apple_store': 395, 'ipad_2': 2797, 'jailbreak': 2836, 'grateful': 2325, 'fab5': 1882, '70': 132, 'buyers': 830, 'report': 4316, 'socialmedia': 4773, 'remaining': 4299, 'accessories': 185, 'bag': 539, 'exist': 1841, 'feel': 1948, 'antique': 363, 'everytime': 1814, 'turn': 5417, 'messaging': 3332, 'platform': 3914, 'cheeky': 972, 'shoot': 4631, 'display': 1532, 'questions': 4150, 'later': 2997, 'osmpw': 3698, 'performance': 3840, 'accordion': 190, 'toodamnlucky': 5315, 'fear': 1939, '3gs': 93, 'slowpoke': 4728, 'sxswmusic': 5071, 'mocking': 3411, 'flypost': 2043, 'community': 1106, 'bulletin': 810, 'board': 701, 'learn': 3027, 'pedicab': 3823, 'epic': 1770, 'developer': 1463, 'transient': 5363, 'device': 1468, 'bursts': 818, '8pm': 145, 'couch': 1225, 'disliking': 1529, 'twitter': 5440, 'auto': 494, 'shortening': 4637, 'links': 3092, 'clearly': 1028, 'positively': 3974, 'happily': 2423, 'overheating': 3718, 'british': 779, 'sounding': 4815, 'crashing': 1261, 'instead': 2743, 'then': 5214, 'works': 5815, 'sister': 4686, 'tonigh': 5310, 'wilting': 5752, 'stress': 4948, 'believe': 622, 'almost': 302, 'always': 314, '40': 97, 'geeksrule': 2207, 'taariq': 5094, 'howdy': 2577, 'or': 3680, 'usguys': 5549, 'smaller': 4733, 'pc': 3814, 'meeti': 3308, 'meeting': 3309, 'jealous': 2848, 'obsolete': 3622, 'things': 5228, 'screen': 4516, 'old': 3646, 'explanation': 1860, 'instantly': 2742, 'pixieengine': 3897, 'keeps': 2913, 'awake': 510, 'thank': 5198, 'tough': 5340, 'dwindling': 1645, 'help': 2476, 'jeebus': 2851, 'correcting': 1220, 'curse': 1318, 'words': 5809, 'updated': 5519, 'not': 3582, 'soon': 4805, 'care': 881, 'brazil': 753, 'orkut': 3694, 'threat': 5247, 'pakistan': 3751, 'cwc2011': 1331, 'screenfuture': 4517, 'linking': 3091, 'peeps': 3826, 'most': 3445, 'product': 4058, 'exists': 1844, 'imac': 2640, 'staring': 4883, 'enough': 1753, 'remember': 4302, 'wth': 5846, 'saw': 4476, 'giant': 2229, 'premiere': 4012, 'screams': 4515, 'since': 4679, 'listening': 3098, 'engaging': 1742, 'heck': 2472, 'happened': 2420, 'buzz': 833, 'ranking': 4188, 'efforts': 1697, 'helping': 2479, 'global': 2255, 'issues': 2822, 'wtf': 5845, 'unabashed': 5467, 'geeky': 2208, 'detailed': 1456, 'colour': 1084, 'coded': 1067, 'proving': 4089, 'organized': 3691, 'whole': 5731, 'raises': 4178, 'half': 2398, 'stillonamacbook': 4917, 'shame': 4601, 'nfusion': 3554, 'inside': 2727, 'marty': 3267, 'unboxing': 5471, 'veterans': 5588, 'reasons': 4221, 'made': 3204, 'soundcloud': 4814, 'ambassador': 321, 'upload': 5524, 'reward': 4366, 'alert': 291, 'tablet': 5098, 'finding': 1994, 'needle': 3515, 'haystack': 2445, 'cr': 1248, '48': 105, 'mental': 3323, 'session': 4579, 'taking': 5110, 'doingitwrong': 1565, 'purchased': 4111, 'mexican': 3339, 'mavis': 3283, 'boy': 738, 'bear': 600, 'listen': 3096, 'twice': 5437, 'agnerd': 260, 'dairy': 1339, 'relies': 4293, 'evernote': 1808, 'agchat': 253, 'bummed': 812, 'quarantined': 4143, 'kiddie': 2931, 'cold': 1075, 'garageband': 2181, 'comfort': 1093, 'spotted': 4860, 'nfc': 3552, 'enabled': 1726, 'marker': 3258, 'birds': 662, 'wonder': 5797, 'billboard': 656, 'loving': 3170, 'morphie': 3443, 'juicepack': 2891, 'recharge': 4228, 'worth': 5825, 'move': 3454, 'murphy': 3473, 'usa': 5536, 'serve': 4571, 'announcing': 353, 'features': 1942, 'v5': 5563, 'intimate': 2766, 'designflaws': 1445, 'compiling': 1119, 'doc': 1552, 'longer': 3134, 'musicians': 3479, 'kicked': 2928, 'bucket': 799, 'within': 5778, 'walking': 5654, 'distance': 1538, 'unequipped': 5483, 'compared': 1112, 'dang': 1351, 'hm': 2520, 'mashable': 3270, 'random': 4182, 'tips': 5286, 'dev': 1460, 'politics': 3948, 'trophy': 5388, 'lookingforwardtothemusicfest': 3141, 'hard': 2426, 'feelings': 1951, 'towards': 5344, 'partner': 3784, '1of': 49, 'dfcbto': 1472, 'launching': 3008, 'anything': 373, 'partying': 3789, 'farooqui': 1918, 'catching': 902, 'grow': 2350, 'purchasing': 4114, 'gamesfortv': 2177, 'extended': 1870, '13': 24, 'nothing': 3588, 'teeming': 5162, 'sea': 4522, 'addicts': 221, 'twittering': 5441, 'engage': 1739, 'anoth': 356, 'trend': 5377, 'opinions': 3672, 'annoying': 355, 'hundreds': 2594, 'attend': 464, 'continuum': 1180, 'attitudes': 469, 'crowdsourcing': 1295, 'gap': 2180, 'hear': 2458, 'third': 5235, 'era': 1776, 'logos': 3129, 'gsdm': 2358, 'highlight': 2493, 'undoubtedly': 5482, 'seconds': 4534, 'softball': 4781, 'fancrazed': 1909, 'preso': 4026, '3d': 91, 'vector': 5573, 'panning': 3762, 'gasps': 2184, 'appreciation': 406, 'tomlinson': 5306, 'tx': 5445, 'observer': 3620, 'subscription': 4973, 'impediment': 2655, 'newsapps': 3543, 'official': 3634, 'jk': 2862, 'kiss': 2948, 'slap': 4710, 'xoom': 5858, 'hit': 2516, 'finds': 1995, 'foods': 2064, 'crave': 1263, 'cnnmoneysxsw': 1058, 'shortcuts': 4636, 'newspaper': 3544, 'caramel': 877, 'macchiato': 3197, 'other': 3700, 'ouch': 3703, 'hiss': 2513, 'apparently': 386, 'pumps': 4107, 'lava': 3011, 'tmsxsw': 5298, 'showed': 4651, 'charge': 950, 'bar': 561, 'table': 5096, 'wanted': 5665, 'across': 198, 'street': 4945, 'weeks': 5709, 'umm': 5462, 'obvious': 3624, 'cough': 1227, 'spend': 4841, 'tempted': 5177, 'dexteria': 1471, 'plenty': 3928, 'scarfing': 4489, '65': 129, 'packing': 3738, 'fragmentation': 2095, 'voicefeed': 5627, 'planning': 3909, 'previews': 4034, 'cope': 1203, 'usability': 5537, 'joke': 2874, 'attractive': 472, 'impressive': 2666, 'permanent': 3843, 'finally': 1990, 'dwindled': 1644, 'hook': 2546, 'singing': 4680, 'dancing': 1348, 'high': 2491, 'fives': 2011, 'purchase': 4110, 'pr': 3998, 'stunt': 4968, 'business': 821, 'response': 4334, 'sets': 4583, 'draws': 1612, 'crowds': 1294, 'excellent': 1827, 'untapped': 5508, 'market': 3259, 'site': 4689, 'pour': 3986, 'accessibility': 183, 'sick': 4658, 'problem': 4053, 'living': 3108, 'stories': 4930, 'creating': 1273, 'change': 941, 'hacknews': 2391, 'marketers': 3261, 'professionals': 4060, 'save': 4468, 'reproducing': 4320, 'digitally': 1497, 'organically': 3688, 'consume': 1165, 'information': 2706, 'goggles': 2271, 'that': 5202, 'marissameyer': 3256, 'retiring': 4350, 'wine': 5757, 'library': 3062, 'moving': 3460, 'onto': 3660, 'grape': 2321, 'yr': 5894, 'thankyouecon': 5201, 'reveals': 4356, 'average': 505, 'nyt': 3614, 'oscars': 3697, '16mins': 41, 'blew': 678, 'congrats': 1145, 'eats': 1671, 'bbq': 594, 'sxswbuffalo': 5059, 'lounge': 3158, 'complete': 1121, 'quibidswin': 4153, 'andoid': 338, 'choice': 992, 'awards': 512, 'law': 3013, 'averages': 506, '______': 161, 'naomi': 3501, 'campbell': 861, 'rage': 4173, 'rule': 4432, 'ooing': 3661, 'ahing': 269, 'deal': 1380, 'everybody': 1810, 'status': 4898, 'saving': 4473, 'gps': 2310, 'alternate': 310, 'routes': 4422, 'computing': 1129, 'rare': 4191, 'sighting': 4662, 'indeed': 2691, 'internet': 2761, 'though': 5242, 'suggestions': 4989, 'grabbed': 2314, 'seat': 4528, 'setting': 4584, 'bajillions': 542, 'exclusive': 1835, 'fools': 2066, 'spilled': 4845, 'beans': 599, 'sxflip': 5048, 'impressed': 2663, 'slim': 4721, 'form': 2082, 'on': 3654, 'ness': 3526, 'tried': 5382, 'head': 2449, 'explode': 1861, 'message': 3330, 'brought': 788, 'delicious': 1413, 'often': 3638, 'including': 2685, 'drag': 1608, 'drop': 1624, 'management': 3232, 'talked': 5115, 'developers': 1464, 'meetup': 3312, 'them': 5211, 'androidsxsw': 343, 'transfer': 5362, 'fetishism': 1967, 'slowly': 4727, 'man': 3230, 'ûò': 5950, 'least': 3033, 'look': 3136, 'to': 5301, 'fonts': 2060, 'lord': 3145, 'vortex': 5632, 'smugness': 4754, 'unbearable': 5469, 'feed': 1946, 'geek': 2196, 'dokobots': 1566, 'geogames': 2219, 'dangerous': 1352, 'hopefully': 2555, 'fact': 1890, 'flew': 2025, 'emc': 1716, 'enter': 1756, 'sampler': 4455, 'following': 2056, 'qa': 4128, 'insights': 2732, 'webmasters': 5702, 'ipoo': 2808, '4chan': 108, 'bathroom': 581, 'wall': 5656, 'sxswmoot': 5070, 'pdanet': 3817, 'likes': 3079, 'whrrl': 5737, 'marketplace': 3263, 'ol': 3645, 'brits': 780, 'gooddeed': 2284, 'original': 3693, '2nd': 71, 'unveiling': 5512, 'scarborough': 4486, 'building': 806, 'star': 4880, 'ftp': 2132, 'cloudapp': 1045, 'typing': 5448, 'skype': 4709, 'exploring': 1865, 'xml': 5857, 'combines': 1087, 'individuals': 2695, 'single': 4681, 'public': 4100, 'common': 1100, 'tablets': 5099, 'finger': 1997, 'carry': 886, 'lame': 2977, 'expectation': 1848, 'engagement': 1741, 'visual': 5619, 'delving': 1423, 'sxfl': 5047, 'insanely': 2724, 'thin': 5226, 'light': 3069, 'hold': 2527, 'mosaicxm': 3444, 'among': 329, 'missing': 3386, 'dance': 1347, 'outbrain': 3705, 'decided': 1392, 'suggestion': 4988, 'welcome': 5714, 'inferior': 2700, 'released': 4286, 'well': 5716, 'wrong': 5841, 'smell': 4745, 'hereforwork': 2483, 'nottheipad2': 3594, 'glimpse': 2254, 'the': 5204, 'gadgets': 2163, 'resist': 4327, 'brainwashed': 747, 'thousands': 5246, 'floating': 2030, 'zero': 5910, 'tip': 5284, 'march': 3249, 'letting': 3055, 'test': 5187, 'drive': 1617, 'fix': 2013, 'bloggable': 686, 'forgot': 2080, 'cleveland': 1029, 'hopkins': 2558, 'airport': 277, 'saying': 4479, 'yelp': 5875, 'services': 4577, 'die': 1481, 'discuss': 1522, 'geeks': 2205, 'expecting': 1850, 'flood': 2032, 'debuting': 1387, 'twit': 5438, 'boxee': 736, 'keg': 2914, 'robots': 4404, 'ferris': 1959, 'checked': 968, 'ebay': 1672, 'hackathon': 2388, 'fond': 2058, 'futuremf': 2151, 'trajan': 5360, 'destroyed': 1454, 'title': 5289, 'tag': 5102, 'websites': 5704, 'graph': 2322, 'protocol': 4083, 'clean': 1026, 'formula': 2087, 'goes': 2269, 'presence': 4020, 'weve': 5720, 'heyo': 2485, 'unloading': 5497, 'dis': 1509, 'bars': 569, 'ridic': 4376, 'luck': 3176, 'mexico': 3340, 'sorta': 4810, 'sux': 5025, 'kik': 2935, 'concierge': 1134, 'add': 215, 'user': 5546, 'ask': 447, 'uxdes': 5558, 'little': 3102, 'parents': 3775, 'anymore': 370, 'comment': 1098, 'child': 983, 'ûó': 5952, 'connectedbrands': 1151, 'cover': 1239, 'filming': 1983, 'playback': 3916, 'dense': 1436, 'una': 5466, 'vuelta': 5637, 'por': 3966, 'socialfuel': 4771, 'para': 3771, 'ver': 5581, 'la': 2970, 'gran': 2317, 'diferencia': 1487, 'revolution': 4363, 'clumsily': 1047, 'translated': 5365, 'wishing': 5775, 'ã_': 5923, 'edchat': 1682, 'musedchat': 3474, 'classical': 1021, 'newtwitter': 3548, 'interrupt': 2763, 'regularly': 4274, 'scheduled': 4497, 'programming': 4064, 'creator': 1277, 'create': 1270, 'either': 1702, 'sadly': 4447, 'no': 3570, 'anybodywanttobuymeanipad2': 369, 'cocky': 1064, 'perhaps': 3841, 'separate': 4564, 'extra': 1873, 'articulate': 438, 'relevant': 4290, 'resourceful': 4330, 'hashable': 2431, 'droid': 1622, 'disgusted': 1526, 'witnessed': 5781, 'homeless': 2539, 'guy': 2377, 'inventory': 2778, 'info': 2704, 'passerby': 3794, 'respect': 4331, 'invited': 2785, 'fill': 1978, 'chair': 933, 'overblown': 3714, 'mom': 3417, 'boomers': 711, '_¼': 164, 'ä___ü': 5924, '___': 159, '_____': 160, '_µ': 163, 'classiest': 1023, 'fascist': 1920, 'america': 324, 'elegant': 1706, 'rji': 4398, 'mint': 3379, 'confines': 1141, 'coding': 1069, 'luxury': 3185, 'worry': 5822, 'diff': 1488, 'versions': 5585, 'sxswmobileapps': 5069, 'tracks': 5351, 'industry': 2697, 'favorites': 1935, 'breakout': 760, 'artists': 442, 'copy': 1207, 'kindle': 2943, 'thx': 5263, 'keeping': 2912, 'enchanted': 1729, 'lack': 2973, 'newsworthy': 3546, 'announcements': 351, 'unless': 5494, 'count': 1229, 'googlecircles': 2292, 'spread': 4861, 'markets': 3264, 'comers': 1091, 'ordinance': 3685, 'admission': 228, 'recovery': 4247, 'corrupted': 1221, 'crazy': 1266, 'hotels': 2568, 'aus': 482, 'bergstrom': 631, 'midday': 3349, 'mid': 3348, 'outlet': 3708, 'blocked': 682, 'immobile': 2650, 'serves': 4575, 'purpose': 4117, 'taunt': 5127, 'sorry': 4808, 'forever': 2077, 'ning': 3567, 'roadie': 4401, 'thrilled': 5250, 'offer': 3628, 'unofficial': 5501, 'insider': 2728, 'packed': 3737, 'strangeproblems': 4935, '2011': 55, 'novelty': 3595, 'fades': 1893, 'delegates': 1410, 'xipad': 5854, 'killer': 2938, 'photoes': 3862, 'sxswchi': 5060, 'latest': 2998, 'playsxsw': 3925, 'rankings': 4189, 'advice': 243, 'caring': 883, 'psych': 4095, 'dt': 1634, '80s': 137, 'hosted': 2564, 'yeah': 5869, 'cute': 1327, 'girls': 2241, 'ends': 1737, 'shite': 4628, 'sponso': 4854, 'tons': 5312, 'w00t': 5641, 'yeaayyy': 5868, 'story': 4932, 'stay': 4900, 'tuned': 5412, 'wise': 5772, 'fyi': 2155, 'breaking': 759, 'www': 5850, 'divasanddorks': 1543, 'invades': 2776, 'goodguide': 2285, 'scans': 4485, 'barcode': 562, 'rank': 4186, 'environmental': 1767, 'responsibility': 4336, 'pressure': 4030, 'smmnextgen': 4748, 'order': 3682, 'tempt': 5175, 'austintx': 486, 'lying': 3189, 'signal': 4665, 'strength': 4947, 'dedication': 1396, 'sleepy': 4714, 'largest': 2989, 'nexus': 3551, 'useful': 5543, 'at': 456, 'maggie': 3211, 'maes': 3208, 'glow': 2258, 'dark': 1356, 'shades': 4596, 'scale': 4482, 'tiny': 5282, 'colors': 1083, 'blue': 694, 'meaningful': 3298, 'optimum': 3677, 'shade': 4595, 'do': 1551, 'yourself': 5891, 'scavenger': 4491, 'hunts': 2598, 'hootsuite': 2552, 'tweetdeck': 5429, 'ceo': 924, 'tells': 5170, 'journey': 2882, 'blinksale': 680, 'iconbuffet': 2613, 'packrat': 3739, 'born': 721, 'lightbulb': 3072, 'turned': 5418, 'passì': 3798, 'wssxsw': 5844, 'zomg': 5917, 'loaded': 3112, 'hoot': 2550, 'ps': 4091, 'tvontheradio': 5424, 'tix': 5291, 'yall': 5864, 'studies': 4960, 'players': 3920, 'petting': 3853, 'paper': 3768, 'useless': 5545, 'beforetwitter': 613, 'envy': 1769, 'agree': 262, 'mealtime': 3295, 'details': 1457, 'giveaway': 2245, 'woot': 5805, 'score': 4510, 'handing': 2406, 'pi': 3866, 'whoa': 5730, 'reading': 4205, 'flight': 2026, 'boom': 710, 'important': 2661, 'rite': 4396, 'passage': 3791, 'woo': 5801, 'hoo': 2545, 'il': 2634, 'be': 597, 'nc': 3508, 'buzzing': 834, 'geekdom': 2199, 'elevate': 1708, 'yeay': 5873, 'masha': 3269, 'rollout': 4415, 'breath': 762, 'minded': 3366, 'efficient': 1694, 'beats': 604, 'leather': 3034, 'woohoo': 5802, 'standing': 4879, 'popupstore': 3965, 'twitpic': 5439, 'zazzlesxsw': 5905, 'justmet': 2899, 'worked': 5811, '25': 63, 'et': 1788, 'funny': 2147, 'but': 824, 'confirmed': 1142, 'applauds': 392, 'freeze': 2108, 'conversion': 1191, 'possibility': 3976, 'ideally': 2617, 'bring': 775, 'socially': 4772, 'lead': 3021, 'doodle': 1584, 'evil': 1817, 'ponies': 3950, 'arm': 426, 'meat': 3303, 'pointer': 3943, 'hilarious': 2498, 'smartphone': 4738, 'land': 2979, 'bus': 819, 'airline': 274, 'mentioned': 3325, 'delightful': 1417, 'drumroll': 1630, 'bt': 796, 'discovr': 1521, 'killing': 2940, 'pubcamp': 4099, 'kirkus': 2947, 'qrank': 4133, 'prizes': 4049, 'saysshewithoutanipad': 4481, 'smileyparty': 4746, 'sn': 4759, 'tunage': 5410, 'leading': 3022, 'getjarsxsw': 2224, 'unique': 5488, 'klick': 2950, 'models': 3414, 'straps': 4938, 'schwag': 4506, 'waste': 5675, 'blogger': 687, 'orange': 3681, 'wodpress': 5789, 'owns': 3732, 'blog': 685, 'grand': 2318, 'tis': 5288, 'covered': 1241, 'sauce': 4467, 'plan': 3902, 'lust': 3183, 'rubbing': 4431, 'escape': 1781, 'rocks': 4410, 'alot': 305, 'sxswnui': 5073, 'denotes': 1435, 'theme': 5212, '1986': 44, 'mae': 3207, 'radio': 4170, 'plug': 3932, 'sound': 4813, 'system': 5092, 'hanging': 2415, 'survival': 5020, 'kit': 2949, '64gb': 126, 'paypal': 3813, 'bored': 719, 'fluffertrax': 2038, 'consulting': 1164, 'avoiding': 508, 'pitfalls': 3891, 'challenges': 937, 'notes': 3585, 'taccsxsw': 5100, 'disaster': 1514, 'died': 1482, 'middle': 3350, 'function': 2143, 'quadroid': 4136, 'qualcomm': 4138, 'decade': 1389, 'wintel': 5765, 'cloud': 1044, '900': 148, '32': 84, 'gb': 2191, 'willpay': 5750, 'zaarly': 5898, 'map': 3240, 'usage': 5538, '59pm': 120, 'pst': 4094, 'trends': 5379, 'angry': 345, 'smackdown': 4730, 'banality': 549, '10am': 11, 'batt': 583, '54': 115, 'notevenstartedyet': 3587, 'worthwhile': 5826, 'improvements': 2670, 'advertising': 242, 'by': 836, 'inde': 2690, 'channels': 947, 'uncategorized': 5472, 'rewardswagon': 4368, 'bookbook': 708, '15slides': 37, 'gruber': 2355, 'desk': 1448, 'keyboard': 2919, 'discontinued': 1516, '1991': 46, '169': 39, 'loud': 3155, 'feels': 1952, 'writes': 5839, 'wjchat': 5783, 'q7a': 4127, 'only': 3659, 'zagg': 5900, 'hopes': 2556, 'neat': 3513, 'database': 1363, 'shall': 4599, 'mystery': 3494, 'prize': 4048, 'gift': 2232, 'discotalk': 1517, '15k': 36, 'pdf': 3818, 'investment': 2780, 'small': 4731, 'mags': 3217, 'chris': 997, 'formerly': 2086, 'obs': 3617, 'ap': 378, 'setup': 4587, 'restaurant': 4338, 'page': 3743, 'sign': 4664, 'hi': 2488, 'door': 1587, 'invite': 2784, 'goona': 2301, 'ass': 452, '3rd': 95, 'charm': 959, 'randomly': 4183, 'sandwich': 4459, 'edible': 1684, 'wrapper': 5835, 'welivehere': 5715, 'featured': 1941, 'watching': 5680, 'simultaneously': 4677, 'force': 2074, 'mmm': 3400, 'beluga': 625, 'coordinate': 1202, 'sxsw4japan': 5055, 'selfish': 4551, 'microsoft': 3347, 'served': 4572, 'engine': 1743, 'techies': 5153, 'they': 5223, 'harnessing': 2428, 'collective': 1080, 'stolen': 4922, 'months': 3434, 'highly': 2495, 'recommend': 4238, 'goodcustomerservice': 2283, 'discover': 1518, 'bro': 782, 'posed': 3970, 'asking': 449, 'absolute': 175, 'portable': 3968, 'pushed': 4119, 'paperless': 3769, 'biz': 667, 'card': 879, 'solution': 4789, 'tempting': 5178, 'related': 4280, 'rm': 4399, 'lovefresh': 3162, 'nat': 3502, 'geo': 2218, 'article': 436, 'cooler': 1198, 'current': 1317, 'arctic': 417, 'explorers': 1864, 'mistakes': 3390, 'netflix': 3529, 'cwebb': 1332, 'grant': 2319, 'hill': 2499, 'yikes': 5883, 'reached': 4200, 'fanboyism': 1907, 'literally': 3100, 'asleep': 451, 'touch': 5336, 'trackpads': 5350, 'positives': 3975, 'natural': 3504, 'sit': 4687, 'relaxed': 4283, 'wohooo': 5791, 'tnx': 5300, 'red': 4251, 'cross': 1288, 'hands': 2409, 'exquisite': 1869, 'clipcon': 1037, 'intro': 2771, 'reel': 4257, 'suasxsw': 4972, 'sxswaccel': 5056, 'entrepreneur': 1762, 'ceokidschat': 925, 'writer': 5838, 'dawn': 1371, 'circle': 1008, 'result': 4345, 'geekdilemma': 2198, 'ipad1': 2793, 'wipes': 5767, 'donates': 1575, 'mrs': 3466, 'adfonic': 226, 'ðü': 5931, 'lol': 3130, 'gadgetzilla': 2164, 'scared': 4488, 'netbook': 3528, 'fully': 2141, 'granted': 2320, 'edit': 1685, '4square': 113, 'zap': 5902, 'kno': 2956, 'dell': 1422, 'richard': 4372, 'mercy': 3329, 'bb': 593, 'torch': 5328, 'webmail': 5700, 'suppose': 5007, 'cheers': 974, 'eagerly': 1650, 'brain': 745, 'apologies': 383, 'randy': 4184, 'ads': 237, 'popping': 3958, 'algorithm': 294, 'skewed': 4699, 'queries': 4147, 'film': 1981, 'filmaster': 1982, 'screenings': 4519, 'private': 4047, 'recommendations': 4240, 'sense': 4561, 'limit': 3082, 'specific': 4835, 'interview': 2764, 'takeaway': 5105, 'continuous': 1179, 'teach': 5137, 'tax': 5128, 'write': 5837, 'off': 3627, 'kinda': 2942, 'essential': 1784, 'underwire': 5481, 'wired': 5768, 'informal': 2705, 'unscientific': 5505, 'observation': 3618, 'down': 1597, 'contest': 1173, 'alive': 295, 'talks': 5117, 'jonathan': 2875, 'dahl': 1336, 'minimalistprogramming': 3376, 'marissagoogle': 3254, 'realized': 4211, 'havnt': 2442, 'thursday': 5260, 'sprinkle': 4863, 'approval': 409, 'woes': 5790, 'whowillrise': 5736, 'quite': 4160, 'grumbling': 2356, 'v2': 5561, 'meetups': 3313, 'virtualwallet': 5613, 'iphone5': 2804, 'bc': 595, 'standardization': 4878, 'confusion': 1144, 'monthly': 3433, 'value': 5568, '50': 114, 'utility': 5554, 'valuable': 5567, 'sxsweisner': 5061, 'dl': 1549, 'calyp': 855, 'avail': 501, 'analytics': 336, 'offsite': 3637, 'virtual': 5610, 'views': 5604, 'javascript': 2845, 'moreknowledge': 3441, 'mitharvard': 3392, 'view512': 5601, 'sters': 4912, 'umshini': 5464, 'wam': 5659, 'fishing': 2006, 'weird': 5713, 'said': 4449, 'liked': 3077, 'esp': 1782, 'footage': 2069, 'revolt': 4362, 'vegan': 5575, 'lazy': 3018, 'smurf': 4755, 'rear': 4217, 'facing': 1888, 'gives': 2248, 'otherwise': 3702, 'actually': 209, 'task': 5122, 'fxsw': 2154, 'courtesy': 1236, 'stranger': 4936, 'investor': 2781, 'utter': 5556, 'cheaper': 966, 'scheduling': 4500, 'flummoxed': 2040, 'shooting': 4632, 'videos': 5598, 'offers': 3631, 'gamelayer': 2175, 'hhrs': 2487, 'guest': 2367, 'godsend': 2266, 'aware': 513, 'lonely': 3131, 'planet': 3907, 'releases': 4287, 'cluttering': 1049, 'handset': 2410, 'bank': 556, '250k': 64, 'bankinnovation': 559, 'barging': 564, 'tables': 5097, 'failure': 1897, 'thingsthatdontgotogether': 5229, 'lisa': 3094, 'rinna': 4388, 'rosso': 4418, 'paste': 3800, 'recipe': 4230, 'mothers': 3448, 'generated': 2212, 'her': 2481, 'leanstartup': 3026, 'supply': 5004, 'chain': 932, 'walmart': 5658, 'behance': 617, 'deleting': 1412, 'loading': 3113, 'draining': 1609, 'cancel': 866, 'recap': 4226, 'seemingly': 4541, 'relive': 4296, 'graphics': 2324, 'faster': 1925, 'motorola': 3450, 'evaporation': 1797, 'tools': 5320, 'approves': 411, 'irelay': 2811, 'project': 4067, 'manager': 3233, 'nowhammies': 3598, 'turning': 5419, 'listened': 3097, 'betterthingstodo': 645, 'freaking': 2104, 'question': 4148, 'trucks': 5391, 'jobsco': 2867, 'clever': 1030, 'recognition': 4234, 'seriousness': 4569, 'cant': 868, 'spell': 4839, 'checking': 969, 'correct': 1219, 'grrr': 2353, 'wrapping': 5836, 'more': 3440, 'posterous': 3981, 'pile': 3879, 'socmedia': 4779, 'square': 4867, 'credit': 1280, 'amazingly': 319, 'load': 3111, 'feelin': 1949, 'every': 1809, '6hours': 130, 'lowest': 3171, 'possible': 3977, 'brightness': 772, 'basics': 576, 'hallway': 2402, 'ux': 5557, 'ia': 2607, 'unite': 5489, 'rachael': 4166, 'harris': 2429, 'doesdroid': 1561, 'puts': 4124, 'famous': 1903, 'artworks': 444, 'billion': 657, 'pixels': 3896, 'allowing': 300, 'zoom': 5919, 'different': 1490, 'trip': 5385, 'museums': 3476, 'edtech': 1688, 'innovators': 2720, 'bringing': 776, 'griddler': 2334, 'lustre': 3184, 'pearl': 3821, '36': 87, 'study': 4962, 'mktg': 3399, 'discussion': 1524, 'flask': 2020, 'sitting': 4691, '9th': 157, 'st': 4871, 'aicn': 270, 'screening': 4518, 'prepared': 4017, 'iloveasurprise': 2638, 'asked': 448, 'remove': 4306, 'deadly': 1379, 'death': 1384, 'valley': 5566, 'wsj': 5843, 'branded': 749, 'native': 3503, 'send': 4559, 'videogame': 5596, 'shat': 4611, 'tear': 5144, 'newapplestoreaustin': 3538, 'target': 5121, 'awesometiming': 520, 'excuse': 1836, 'percentage': 3837, 'participants': 3781, 'walked': 5652, 'appolicious': 404, 'messages': 3331, 'entertaining': 1759, 'phenomenal': 3856, 'venturebeat': 5578, 'appears': 391, 'vb': 5571, 'vicariously': 5592, 'damn': 1344, 'rocking': 4409, 'spasmatics': 4826, 'hp': 2579, 'congratulation': 1146, 'spin': 4847, 'whatcha': 5724, 'television': 5167, 'expierence': 1858, 'spoken': 4853, 'danny': 1355, 'sullivan': 4992, 'larger': 2988, 'kill': 2936, 'wings': 5758, 'drivers': 1619, 'fuel': 2138, 'sem': 4555, 'googlemaps': 2298, 'topnews': 5325, 'matthew': 3281, 'davis': 1368, 'strip': 4951, 'quibids': 4152, 'custom': 1321, 'wearing': 5691, 'openbeta': 3665, 'vip': 5607, 'traded': 5355, 'piece': 3876, 'awesomeness': 519, 'arduino': 418, 'flaming': 2015, 'skulls': 4706, 'smartthings': 4740, 'sharers': 4608, 'join': 2870, 'aos': 377, 'ginger': 2238, 'cards': 880, 'exchange': 1830, 'serious': 4567, 'style': 4970, 'conv': 1183, 'cntr': 1060, 'fashion': 1921, 'gaining': 2168, 'movers': 3456, 'shakers': 4597, 'loyalists': 3172, 'nearly': 3512, 'anyones': 372, 'smarter': 4736, 'knowing': 2959, 'sched': 4495, 'suggest': 4987, 'cursor': 1320, 'btw': 797, 'speaking': 4832, 'surpassed': 5013, 'online': 3658, 'past': 3799, 'discusses': 1523, 'answer': 358, 'ratings': 4196, 'kek': 2915, 'vp': 5635, 'consumer': 1166, 'focus': 2046, 'demoed': 1427, 'augmented': 479, 'reality': 4209, 'webvisions': 5705, 'wil': 5745, 'thats': 5203, 'loyalty': 3173, 'quicker': 4155, 'responses': 4335, 'fh': 1969, 'enable': 1725, 'douche': 1593, 'cake': 845, 'crowley': 1296, 'dodgeball': 1558, 'chrome': 1000, 'calls': 854, 'tub': 5406, 'steamy': 4907, 'mindshare': 3370, 'rim': 4385, 'mnbuzz': 3402, 'berkowitz': 633, 'rfid': 4370, 'ncf': 3510, 'bullish': 811, 'sxswgood': 5064, 'globalbestaward': 2256, 'hmmm': 2522, 'quotable': 4162, 'flip': 2028, 'somebody': 4793, 'consistently': 1161, 'type': 5447, 'goddamn': 2265, '8am': 143, '30pm': 82, 'usefulness': 5544, 'redbull': 4253, 'bpm': 742, 'dj': 1546, 'powering': 3992, 'dtas': 1635, 'republic': 4321, 'charity': 957, 'water': 5681, 'throwin': 5254, 'studentsforcleanwater': 4959, 'org': 3686, 'fusion': 2148, 'election': 1704, 'visualization': 5621, 'greeted': 2332, 'lindsay': 3085, 'stillman': 4916, 'birth': 663, 'fuck': 2134, 'wwsxsw': 5849, 'walk': 5651, 'lady': 2975, 'bird': 661, 'lake': 2976, 'trusted': 5397, 'ironic': 2815, 'tee': 5161, 'usurped': 5553, 'hipster': 2506, 'chic': 981, 'item': 2826, 'frankeninterface': 2102, 'designed': 1442, 'metaphor': 3337, 'uses': 5548, 'macallan': 3193, 'successful': 4977, 'sessions': 4580, 'glass': 2251, 'malt': 3229, 'recording': 4245, 'voluntarily': 5629, 'greatest': 2330, 'collection': 1079, 'egomaniacs': 1699, 'dream': 1613, 'steve': 4913, '188': 43, 'parts': 3787, 'suicidal': 4990, 'chinese': 988, 'tastes': 5123, 'skills': 4703, 'eventseekr': 1804, 'smyle': 4758, 'chat': 961, 'shared': 4607, 'whiteboarding': 5729, 'vintage': 5606, 'format': 2083, 'mostly': 3446, 'ipods': 2807, 'snarky': 4764, 'employees': 1720, 'ah': 264, 'saveustechies': 4472, 'surui': 5018, 'carbon': 878, 'hls': 2519, 'dynamic': 1647, 'insertion': 2726, 'kid': 2930, 'atari': 457, '800': 136, 'able': 173, 'crowdbeacon': 1292, 'put': 4123, 'becoming': 609, 'congratulations': 1147, 'sent': 4562, 'seesmic': 4546, 'convince': 1193, 'comedy': 1090, 'ustream': 5551, 'skyfire': 4707, 'browser': 790, 'safari': 4448, 'eating': 1670, 'coolhaus': 1200, 'airs': 279, 'crew': 1283, 'ripped': 4391, 'crunch': 1297, 'crippling': 1285, 'voice': 5626, 'regular': 4273, 'texting': 5196, 'pants': 3764, 'dock': 1553, 'expect': 1847, 'insidious': 2729, 'approaches': 408, 'subscriptions': 4974, 'disgraceful': 1525, 'libraries': 3061, 'bjdproductions': 669, 'security': 4536, 'guard': 2362, 'unimitated': 5487, 'fingerprint': 1998, 'scan': 4483, '1990style': 45, 'bldg': 676, 'appstore': 413, 'wholistic': 5732, 'awareness': 514, 'strategy': 4940, 'adoption': 235, 'rely': 4298, 'ordered': 3683, 'wasting': 5677, 'fellowship': 1957, 'discovered': 1519, 'conversation': 1189, 'icebreaker': 2612, 'acerbic': 192, 'cynical': 1333, 'crashed': 1258, 'dumped': 1641, 'twitterpower': 5442, 'imthatgood': 2675, 'lasts': 2993, 'awkward': 522, 'framework': 2096, 'lovers': 3166, 'tiff': 5267, 'disappointingly': 1513, 'friendly': 2117, 'ridiculously': 4379, 'al': 283, 'franken': 2101, 'justin': 2897, 'timberlake': 5273, 'unexpected': 5484, 'bonus': 705, 'waking': 5649, '4am': 106, 'communication': 1104, 'bemyneighbor': 626, 'flaw': 2022, 'switch': 5041, 'ipaddesignheadaches': 2798, 'headed': 2451, 'integrated': 2745, 'dynamics': 1648, 'synergy': 5091, 'draw': 1610, 'artist': 440, 'trust': 5396, 'zappos': 5903, 'likability': 3074, 'virgin': 5608, 'focuses': 2047, 'object': 3615, 'survive': 5021, 'succeed': 4975, 'nike': 3564, 'sneakers': 4765, 'geekout': 2204, 'traveller': 5374, 'rpg': 4426, 'stood': 4923, 'minutes': 3381, 'fuckyeah': 2137, 'sam': 4454, 'licked': 3063, 'mapquest': 3244, 'reacquainted': 4201, 'mq': 3464, 'embarrassed': 1715, 'uber': 5450, 'localmind': 3118, 'incredibly': 2689, 'annoyed': 354, 'ui': 5459, 'fat': 1928, 'ûªs': 5938, 'projects': 4070, 'obv': 3623, 'friend': 2116, 'jeff': 2853, 'helped': 2477, 'especially': 1783, '15am': 35, 'ya': 5862, 'psyched': 4096, 'infact': 2698, 'cobra': 1062, 'iradar': 2810, 'detection': 1459, 'ferriss': 1960, 'pie': 3875, 'mylunch': 3491, 'forbidden': 2073, 'spoiled': 4851, 'decision': 1394, 'id': 2614, 'perfect': 3838, 'lists': 3099, 'gtd': 2361, 'syncs': 5090, 'cuz': 1330, 'hilton': 2500, 'salon': 4453, 'filling': 1980, 'quickly': 4156, 'surprises': 5016, 'skill': 4701, 'havent': 2441, 'mccannsxsw': 3292, 'disappointed': 1512, 'overlapping': 3720, 'spins': 4849, 'arsenal': 434, 'jinx': 2861, 'ran': 4180, 'fest': 1962, 'don': 1573, 'fellow': 1956, 'festgoers': 1963, 'alan': 285, 'turing': 5415, 'robot': 4403, 'consumerization': 1168, 'empowered': 1721, 'kh': 2923, 'heavier': 2469, 'giddy': 2231, 'theindustryparty': 5210, 'non': 3575, 'swsurrogates': 5045, 'notpouting': 3592, 'body': 703, 'health2dev': 2457, 'anybody': 368, 'stuck': 4958, 'downloading': 1601, 'startup': 4890, 'gonnagetanipad2': 2280, 'pillow': 3881, 'numbassonfloor': 3605, 'srsly': 4870, 'excludes': 1834, 'insists': 2733, 'disney': 1530, 'spazmatics': 4828, 'franchised': 2097, 'dgtltribe': 1475, 'openbeta6': 3666, 'squeeze': 4869, 'total': 5332, 'scene': 4492, 'spoke': 4852, 'cautiously': 909, 'optimistic': 3675, 'alerts': 292, 'happen': 2419, 'country': 1232, 'united': 5490, 'states': 4894, 'sxswsa': 5076, 'dfp': 1473, 'insight': 2730, 'managing': 3234, 'campaigns': 860, 'measurement': 3301, 'hisxsw': 2515, 'liking': 3080, 'sixth': 4693, 'avenue': 504, 'whale': 5722, '14': 26, 'madness': 3206, 'autocorrect': 495, 'coworkers': 1246, 'visigoths': 5614, 'five': 2010, 'hipstamatic': 2504, 'convore': 1195, 'mashbash': 3271, 'statement': 4893, 'dammit': 1343, 'isack': 2819, 'sweeeet': 5033, 'special': 4834, 'tries': 5383, 'foot': 2068, 'newest': 3539, 'interviewed': 2765, 'thoora': 5241, 'xwave': 5861, 'headsets': 2456, 'notice': 3589, 'prodmktg': 4055, 'recomds': 4237, 'recommends': 4242, 'evolvingworkplace': 1821, 'webdoc': 5698, 'chip': 989, 'brings': 777, 'browsing': 792, 'boost': 713, 'hungry': 2596, 'mekong': 3317, 'river': 4397, 'term': 5183, 'web3': 5695, 'saatchiny': 4443, 'someday': 4794, 'swsx': 5046, 'volume': 5628, 'overwhelming': 3727, 'self': 4550, 'police': 3945, 'curatedebate': 1314, 'leaning': 3025, 'conventions': 1187, 'buttons': 827, 'basis': 577, 'your': 5890, 'ex': 1822, 'stealing': 4904, 'yrs': 5895, 'mkt': 3398, 'passing': 3796, 'hipstermuch': 2507, 'starts': 4889, 'germ': 2221, 'towel': 5345, 'projecting': 4069, 'profits': 4062, 'alone': 303, 'palette': 3752, 'truck': 5390, 'parked': 3778, 'profile': 4061, 'entry': 1763, 'digg': 1492, 'hireme': 2510, 'hire': 2509, 'qualified': 4139, 'talented': 5112, 'women': 5796, 'consciously': 1157, 'startups': 4892, 'achieve': 193, 'tops': 5326, 'mentionr': 3327, 'visit': 5615, 'wozniak': 5831, 'h4ckers': 2384, 'popped': 3957, 'dreams': 1614, 'ûªm': 5937, 'clothes': 1043, 'compatible': 1113, 'nextflix': 3550, 'hide': 2490, 'straw': 4941, 'lbs': 3020, 'commandeered': 1097, 'relinquish': 4295, 'sxsw11': 5053, 'yo': 5884, 'hated': 2436, 'ubertwitter': 5453, 'waves': 5685, 'webber': 5697, 'searching': 4526, 'cmswire': 1051, 'web30': 5696, 'js': 2887, 'winwin': 5766, 'tigerblood': 5268, 'dear': 1383, 'roll': 4413, 'dog': 1562, 'cart': 888, 'dogs': 1563, 'girl': 2239, 'sharp': 4610, 'strums': 4957, 'installing': 2739, 'paying': 3810, 'dividends': 1545, 'layer': 3017, 'breathtaking': 763, 'shitty': 4629, 'steals': 4905, 'met': 3336, 'ftw': 2133, 'beechwood': 611, 'several': 4588, 'reason': 4218, 'sxsw2011': 5054, 'followers': 2055, 'competitors': 1118, 'eurosxsw': 1795, 'tidbit': 5266, 'echofon': 1675, 'ûïmute': 5946, 'functions': 2145, 'somehow': 4795, 'mozilla': 3461, 'crapkit': 1253, 'webkit': 5699, 'gecko': 2194, 'bandwaggoners': 552, 'woah': 5788, 'cited': 1012, 'opposite': 3674, 'proprietary': 4078, 'csuitecsourcing': 1304, 'amused': 332, 'bahahahaha': 541, 'heatmap': 2464, 'leveraging': 3058, 'quiet': 4157, 'select': 4547, 'streams': 4944, 'incl': 2681, 'streaming': 4943, 'nailed': 3497, 'boundaries': 732, 'offline': 3636, 'bluetooth': 696, 'convinced': 1194, 'trade': 5354, 'failed': 1895, 'willpower': 5751, 'supposed': 5008, 'downstairs': 1604, 'cult': 1306, 'iphones': 2805, 'passed': 3792, 'easily': 1665, 'joined': 2871, 'heaving': 2470, 'flow': 2036, 'showcasing': 4650, 'completely': 1122, 'coffee': 1070, 'issue': 2821, 'solving': 4792, 'handsome': 2411, 'grabs': 2315, 'selection': 4549, 'heavy': 2471, 'duh': 1639, 'sees': 4545, 'evolving': 1820, 'converge': 1188, 'yield': 5882, 'mindjet': 3367, 'mindmanager': 3368, 'prefers': 4010, 'hyped': 2605, 'meh': 3316, 'bang': 554, 'vegas': 5576, 'ces': 931, 'warmer': 5669, 'articles': 437, 'touchingstories': 5339, 'fr': 2093, 'recs': 4249, 'end': 1732, 'sloanxsw': 4724, 'staying': 4901, 'indie': 2693, 'kind': 2941, 'downer': 1598, 'coronasdk': 1214, 'delay': 1408, 'catphysics': 904, 'drug': 1628, 'pusher': 4120, 'international': 2760, 'note': 3584, 'downside': 1603, 'mocked': 3410, 'announced': 349, 'changer': 943, 'happening': 2421, 'interact': 2753, 'megastore': 3315, 'sabotaged': 4445, 'youtube': 5892, 'entire': 1760, 'ecosystem': 1680, 'lifetime': 3068, 'scanner': 4484, 'creators': 1278, 'abandoned': 170, 'stopped': 4925, 'normal': 3580, 'lap': 2984, 'taxi': 5129, 'magic': 3212, 'cabs': 843, 'suspense': 5023, 'dennis': 1434, 'owners': 3731, 'looked': 3138, 'lighters': 3073, 'concert': 1132, 'essentials': 1786, 'energy': 1738, 'sunglasses': 4999, 'rainjacket': 4176, 'mp3': 3463, 'player': 3919, 'earplugs': 1657, 'somewhere': 4799, 'ausxsw': 489, 'chatting': 963, 'banged': 555, 'explaining': 1859, 'realistic': 4208, 'bots': 727, 'experiment': 1854, 'gee': 2195, 'intrvw': 2775, 'govt': 2308, 'vending': 5577, 'machine': 3198, 'svcs': 5027, 'teaching': 5138, 'wew': 5721, 'badger': 537, 'angel': 344, 'playbook': 3917, 'refine': 4261, 'protect': 4080, 'smut': 4756, 'presented': 4023, 'larry': 2990, 'elevation': 1709, 'through': 5251, 'roof': 4416, 'deep': 1397, 'eddy': 1683, 'tea': 5136, 'vodka': 5625, 'factor': 1891, '120': 20, 'letter': 3053, 'wrap': 5834, 'hacker': 2389, 'debuts': 1388, 'steampunk': 4906, '37': 89, 'ft': 2131, 'reclaimed': 4233, 'copper': 1205, 'piping': 3884, 'mini': 3375, 'maglight': 3213, 'etch': 1790, 'sketch': 4697, 'engineer': 1744, 'misstatements': 3388, 'payingwithdata': 3811, 'mega': 3314, 'tether': 5191, 'chargin2diffphonesatonce': 955, 'dorkinout': 1588, 'gamechanger': 2174, 'wave': 5684, 'doubt': 1592, 'apparent': 385, 'removable': 4305, 'batteries': 584, 'alwayshavingtoplugin': 315, 'l8er': 2969, 'closer': 1042, 'owner': 3730, 'stoked': 4920, 'finals': 1991, 'alas': 288, 'overtaken': 3725, 'ahh': 267, 'wonderful': 5798, 'ordering': 3684, 'urs': 5533, 'experimenting': 1855, 'tinkering': 5281, 'nineties': 3566, 'viewed': 5602, 'suffering': 4986, 'donation': 1577, 'program': 4063, 'house': 2574, 'farmers': 1916, 'mobilefarm': 3406, 'double': 1590, 'bloomberg': 691, 'kick': 2926, 'basically': 575, 'foing': 2051, 'potential': 3984, 'applications': 403, 'pair': 3748, 'general': 2210, 'album': 289, 'grab': 2313, 'bruises': 793, 'panelists': 3757, 'regarded': 4264, 'sustainability': 5024, 'corporate': 1215, 'reporting': 4317, 'transparency': 5367, 'dailies': 1337, 'evolve': 1819, 'impossible': 2662, 'mb': 3290, 'downloads': 1602, 'gig': 2233, 'color': 1082, 'preference': 4006, 'sans': 4462, 'techrockstar': 5159, 'priority': 4045, 'smokes': 4749, 'replacing': 4312, 'cam': 856, 'default': 1400, 'pitch': 3889, 'omgz': 3652, 'golds': 2277, 'sooo': 4806, 'amismarternow': 328, 'acknowledge': 194, 'increase': 2687, 'incorrect': 2686, 'shakespeare': 4598, 'pub': 4098, 'delete': 1411, 'button': 826, 'brisk': 778, 'sxxpress': 5082, 'austinites': 485, 'couchfan': 1226, 'lovesit': 3168, 'tramplings': 5361, 'letushopenot': 3056, 'poppop': 3960, 'killers': 2939, 'letschangetheworld': 3052, 'dominance': 1571, 'compels': 1114, 'frickin': 2112, 'cabbies': 840, 'savvy': 4475, 'seem': 4539, 'range': 4185, '2012': 56, 'just': 2896, 'knickers': 2954, 'mobil': 3404, 'workers': 5812, 'telework': 5168, 'fluid': 2039, 'pls': 3931, 'exposing': 1867, 'horrendous': 2560, 'aron': 429, 'pilhofer': 3880, 'khoi': 2925, 'vinh': 5605, 'close': 1039, 'fwd': 2153, 'coolest': 1199, '75': 133, 'barely': 563, 'shrink': 4655, '10k': 12, 'imagine': 2645, 'bavcid': 591, 'box': 735, 'qho': 4130, 'route': 4421, 'feature': 1940, 'pollak': 3949, 'trouble': 5389, 'sxswbigbrands': 5058, 'puppy': 4109, 'fawning': 1937, 'forgotten': 2081, 'uzu': 5559, 'kicking': 2929, 'neither': 3517, 'approved': 410, 'stereo': 4911, 'shiner': 4620, 'crasher': 1259, 'cluster': 1048, 'prepping': 4019, 'dehumanizing': 1407, 'concertgoers': 1133, 'withdrawal': 5777, 'stretches': 4949, 'ballrooms': 548, 'outlandish': 3707, 'partial': 3780, 'fine': 1996, 'deciding': 1393, 'wants': 5667, 'ze': 5907, 'frank': 2100, 'childhood': 984, 'enables': 1727, 'stunning': 4967, 'revelations': 4357, 'buffalo': 800, 'afternoon': 251, 'cab': 839, 'hell': 2474, 'dinner': 1502, 'homepage': 2540, 'woman': 5795, 'housing': 2576, 'frontend': 2122, 'cor': 1208, 'treatment': 5375, 'navigating': 3505, 'worse': 5823, 'walks': 5655, 'adpeopleproblems': 236, 'usb': 5539, 'cord': 1209, 'dfw': 1474, 'admits': 230, 'yobongo': 5885, 'regretting': 4272, 'woops': 5804, 'locals': 3119, 'lining': 3089, 'addicted': 217, 'intense': 2751, '1406': 27, '08': 4, 'deals': 1382, 'packs': 3740, 'giveaways': 2246, 'infektd': 2699, 'wider': 5739, 'detect': 1458, 'zombies': 5916, 'nieuwe': 3560, 'regel': 4265, 'pun': 4108, 'intended': 2750, 'geniuses': 2216, 'nfl': 3553, 'lockout': 3124, 'shinmy': 4621, '40min': 99, 'augmentedreality': 480, 'fave': 1932, 'food4thought': 2062, 'juxtaposed': 2903, 'lybian': 3188, 'rebels': 4223, 'thwarted': 5262, 'gorgeous': 2302, 'reeling': 4258, 'lightbox_photos': 3071, 'although': 312, 'quit': 4159, 'fighting': 1974, '59': 118, 'tm': 5293, 'litle': 3101, 'given': 2247, 'faulty': 1930, 'dies': 1485, 'knows': 2962, 'suckas': 4980, 'conference': 1137, 'aristotle': 425, 'taught': 5126, 'nxt': 3612, 'condense': 1135, 'nine': 3565, 'technical': 5156, 'solutions': 4790, 'human': 2592, 'dat': 1361, 'received': 4227, 'anti': 360, 'petition': 3851, 'behave': 618, 'malady': 3226, 'elbow': 1703, 'heat': 2462, 'suns': 5001, '21': 58, 'haul': 2437, 'innovative': 2719, 'biomimicry': 660, 'oldschool': 3647, 'novideo': 3596, 'veryslow': 5586, 'bet': 639, 'que': 4146, 'watched': 5679, 'season': 4527, 'guild': 2372, 'abt': 177, 'hijack': 2497, 'engines': 1745, 'tht': 5257, 'recognize': 4235, 'pictures': 3874, 'artificial': 439, 'intelligence': 2748, 'nobody': 3571, 'socialviewing': 4776, 'whoohoo': 5733, 'totally': 5334, 'props': 4079, 'agency': 256, 'bluezoom': 697, 'unsix': 5506, 'tweetup': 5436, 'happydance': 2425, 'busdev': 820, 'wr': 5833, 'iads': 2608, 'crazyco': 1267, 'geekfest': 2202, 'brian_lam': 765, 'despite': 1453, 'demonstrate': 1429, 'dilemma': 1498, 'trenches': 5376, 'painful': 3747, 'sleek': 4712, 'repair': 4309, 'damage': 1341, 'microformats': 3346, 'jo': 2863, 'bull': 809, 'courtyard': 1238, 'hirer': 2511, 'expected': 1849, 'midem': 3351, 'climbing': 1035, 'charts': 960, 'math': 3278, '45': 102, 'clocks': 1038, 'awwww': 523, 'boyfriend': 739, 'aw': 509, 'cbatsxsw': 910, 'impression': 2664, 'lemon': 3044, 'backlight': 530, 'bleed': 677, 'thru': 5256, 'bottom': 728, 'enchanting': 1730, 'likeability': 3076, 'trustworthiness': 5398, 'airlines': 275, 'disabilities': 1510, 'insightful': 2731, 'icanhas': 2610, 'fire': 2002, 'thanksforthebrandedshades': 5200, '58': 117, '967': 152, 'visits': 5618, 'ranked': 4187, 'ways': 5687, 'age': 254, '55': 116, 'newsapp': 3542, 'gone': 2278, 'toolongforme': 5319, 'amount': 330, 'beware': 646, 'innacurate': 2713, 'hyatt': 2603, 'sxswfail': 5062, 'wean': 5690, 'addiction': 219, 'nah': 3496, 'paired': 3749, 'oil': 3642, 'companies': 1110, 'monopoly': 3430, 'terms': 5185, 'wary': 5673, 'nick': 3559, 'im': 2639, 'barton': 571, 'creek': 1281, 'mackbook': 3200, 'rows': 4425, 'challenged': 936, 'tdg': 5135, 'kara': 2906, 'swisher': 5040, 'stylish': 4971, 'eric': 1777, 'earned': 1655, 'sleep': 4713, 'anyway': 374, 'race': 4165, 'smartphones': 4739, 'á¾_î¾ð': 5922, '__': 158, '_ô': 166, 'èï': 5930, '_ã': 165, 'öý': 5932, 'çü': 5929, '¼¼': 5921, 'documents': 1557, 'paul': 3805, 'adams': 212, 'chronicling': 1002, 'witty': 5782, 'unlocking': 5499, 'mayor': 3289, 'badges': 538, 'owl': 3728, 'threw': 5249, 'earbuds': 1652, 'symbol': 5085, 'proof': 4076, 'toy': 5347, 'guykawasaki': 2378, 'cashmore': 896, 'crushing': 1298, 'endorsement': 1736, 'grooving': 2340, 'rip': 4390, 'june': 2895, '2010': 54, 'survived': 5022, 'severe': 4589, 'evade': 1796, 'drowning': 1627, '95': 150, 'respecting': 4333, 'personalized': 3849, 'abuzz': 178, 'rendering': 4307, 'pack': 3736, 'solely': 4786, 'min': 3364, 'salesperson': 4452, 'darryl': 1358, 'impulse': 2672, '23': 61, 'ave': 503, '64mb': 128, 'comic': 1095, 'finder': 1993, 'english': 1746, 'japanese': 2842, 'stole': 4921, 'was': 5674, 'shamed': 4602, 'sigh': 4661, '25th': 65, 'ken': 2916, 'calhoun': 847, 'sun': 4996, '5hrs': 121, 'premature': 4011, 'ie': 2625, 'ubuntu': 5456, 'desktop': 1449, 'outdid': 3706, 'broken': 786, 'ketchsx': 2918, 'resume': 4348, 'tethering': 5192, 'blows': 693, 'forgo': 2079, 'liveblog': 3104, 'implementing': 2659, 'brightens': 771, 'guessing': 2366, 'josh': 2878, 'williams': 5748, 'farmville': 1917, 'wakeup': 5647, 'games': 2176, 'totalitarian': 5333, 'worldwide': 5819, 'decide': 1391, 'rediculous': 4256, 'overflow': 3716, 'sxswsmall': 5078, 'cannot': 867, 'silly': 4672, 'ridculous': 4373, 'lie': 3064, 'stars': 4885, 'moody': 3436, 'directors': 1507, 'attracting': 471, 'whimsical': 5727, 'spirit': 4850, 'googledoodles': 2295, 'intentionally': 2752, 'coincide': 1072, 'crafty': 1251, 'wannabe': 5663, 'fanbois': 1905, 'acting': 200, 'giggling': 2235, 'schoolgirls': 4503, 'snagged': 4760, 'supposedly': 5009, 'campus': 862, 'verizon': 5582, 'bandwidth': 553, 'tweeted': 5430, 'dawdled': 1369, 'pull': 4104, 'name': 3499, 'cash': 894, 'suckling': 4982, 'pig': 3877, 'dandy': 1349, 'shirt': 4626, 'compan': 1109, 'pinoy': 3883, 'ûïbuttons': 5942, 'hack': 2387, 'approach': 407, 'skepticism': 4696, 'amigos': 327, 'broadcastr': 784, 'bestappever': 637, 'farm': 1915, 'emulates': 1724, 'mouse': 3453, 'click': 1031, 'input': 2721, 'futureoftouch': 2152, 'techie': 5152, 'moderator': 3415, 'europe': 1794, '3000': 78, 'roaming': 4402, 'charges': 954, 'monitor': 3429, 'illegal': 2636, 'deforestation': 1405, 'tech4good': 5147, 'replicate': 4314, 'press': 4028, 'miller': 3361, 'shout': 4644, 'khan': 2924, 'academy': 179, 'education': 1689, 'fmsignal': 2045, 'amex': 325, 'partnership': 3786, 'till': 5271, 'juts': 2902, 'war': 5668, 'heats': 2465, 'society': 4777, 'bynd': 837, 'arrived': 431, '30am': 80, 'degrees': 1406, 'wandered': 5660, 'mad': 3203, 'influence': 2701, 'highs': 2496, 'for': 2071, 'quotables': 4163, 'simply': 4676, 'entered': 1757, 'automatically': 499, 'volunteering': 5630, 'boring': 720, 'thumbs': 5258, 'tired': 5287, 'extreme': 1876, 'waterproof': 5682, 'cigarettes': 1006, 'adding': 222, 'handy': 2413, 'starry': 4884, 'thinking': 5231, 'executed': 1837, 'sporting': 4857, 'install': 2737, 'doing': 1564, 'windows7': 5756, 'animation': 347, 'definitely': 1404, 'gadgetenvy': 2162, 'brains': 746, 'contentrules': 1172, 'fastsociety': 1927, 'texasevery': 5194, 'coinsidence': 1074, 'instagram': 2736, 'mister': 3391, 'evo': 1818, 'research': 4325, 'cat': 900, 'comms': 1101, 'remedied': 4301, 'settling': 4586, 'battledecks': 588, 'agencies': 255, 'directions': 1505, 'lab': 2971, 'tmr': 5296, 'fastcompanygrill': 1923, 'fees': 1953, 'booyah': 716, 'gitchococktailon': 2243, 'formation': 2084, 'rebeltv': 4224, 'unreal': 5504, 'clicked': 1032, 'seats': 4530, 'summer': 4994, 'nerdheaven': 3521, 'registration': 4270, 'lmndst': 3110, 'areas': 421, 'filter': 1984, 'grill': 2336, 'customizable': 1325, 'tractor': 5353, 'trailer': 5358, 'justsaying': 2901, 'heads': 2455, 'ixd': 2835, 'domo': 1572, 'tonchidot': 5309, 'hip': 2503, 'preparation': 4015, 'hangover3': 2417, 'socks': 4778, 'git': 2242, 'yer': 5878, 'heart': 2461, 'panned': 3761, 'trumping': 5394, 'rightfully': 4384, 'so': 4768, 'lug': 3180, 'southpaw': 4821, 'lineup': 3088, 'frozen': 2126, 'tmobile': 5295, 'teathering': 5145, 'g2': 2158, 'inspiring': 2735, 'netflixiphone': 3530, 'goog': 2288, 'appletogo': 401, 'costs': 1223, 'louis': 3156, 'vuitton': 5639, 'amble': 322, 'digitalluxury': 1496, 'occasional': 3626, 'row': 4424, 'writing': 5840, 'favorite': 1933, 'backpack': 531, 'mommy': 3422, 'empowering': 1722, 'fight': 1973, 'east': 1666, 'dictators': 1478, 'wireless': 5769, 'api': 381, 'king': 2944, 'accesssxsw': 187, 'publishers': 4101, 'enhancements': 1747, 'th': 5197, 'david': 1367, 'foster': 2089, 'wallace': 5657, 'footnotes': 2070, 'irrelevant': 2816, 'fiendishly': 1972, 'crisis': 1286, 'silver': 4673, 'logo': 3128, 'notionink': 3591, 'adam': 211, 'brands': 750, 'admit': 229, 'aapl': 168, 'horrible': 2561, 'wasted': 5676, 'festivalgenius': 1966, 'notsomuch': 3593, 'revenge': 4358, 'ridicule': 4377, 'unlisted': 5495, 'suddenly': 4984, 'fml': 2044, 'thick': 5224, 'rimmed': 4386, 'glasses': 2252, 'skynet': 4708, 'announce': 348, 'withme': 5779, 'truth': 5399, 'joint': 2873, 'quake': 4137, 'nhk': 3555, 'black': 670, 'precedent': 4002, 'creatures': 1279, 'er': 1775, 'priorities': 4044, 'bnet': 700, 'boxes': 737, 'techenvy': 5150, 'deadline': 1378, 'mistake': 3389, 'jared': 2843, 'implementation': 2658, 'pac': 3734, 'logic': 3125, 'recreated': 4248, 'lax': 3015, 'wife': 5742, 'freespeech': 2107, 'servers': 4574, 'synced': 5087, 'joy': 2883, 'easeljs': 1663, 'canvas': 869, 'brah': 744, 'printed': 4042, 'signed': 4667, 'weinschenk': 5712, 'battle': 587, 'picking': 3870, 'hair': 2395, 'stickers': 4914, 'allhat3': 298, 'hollrback': 2534, 'rocked': 4407, 'demos': 1432, 'sxswparty': 5074, 'mon': 3423, 'podcast': 3940, 'passes': 3795, 'economy': 1679, 'crushit': 1299, 'tye': 5446, 'clark': 1019, 'fabulous': 1883, 'objective': 3616, 'critiques': 1287, 'chng': 991, 'hannukah': 2418, 'miracle': 3382, 'uncharged': 5474, 'detail': 1455, 'bomb': 704, 'adopters': 234, 'ado': 232, 'rebranded': 4225, 'an': 334, 'inner': 2714, 'appleaddiction': 396, 'tracker': 5349, 'overlay': 3721, 'craziness': 1265, 'mantra': 3238, 'pride': 4038, 'guilty': 2373, '7th': 134, 'sin': 4678, 'superbia': 5003, 'turkey': 5416, 'provided': 4087, 'playhopskoch': 3921, 'publishing': 4102, '106': 10, 'hang': 2414, 'debut': 1386, 'eatdrinktweet': 1669, '2day': 68, 'bunch': 816, 'dontbehatin': 1582, 'fandango': 1910, 'karaoke': 2907, 'tkts': 5292, 'canada': 864, 'is': 2818, 'leisure': 3042, 'restful': 4340, 'price': 4036, 'buildings': 807, 'mapped': 3241, 'groupon': 2348, 'igottagetit': 2632, 'baby': 527, 'should': 4641, 'striking': 4950, 'iron': 2814, 'handle': 2407, 'sucked': 4981, 'fly': 2041, 'gr2l2': 2311, 'poole': 3953, 'refrigerator': 4263, 'magnet': 3214, 'flop': 2034, 'acc': 180, 'demonstration': 1431, 'uosxsw': 5514, 'marissamayer': 3255, 'gettinng': 2227, 'venue': 5579, 'sq': 4866, 'boo': 706, 'rallying': 4179, 'massive': 3274, 'relation': 4281, 'alamo': 284, 'cinema': 1007, 'photobooth': 3861, 'corporation': 1216, 'expensive': 1851, 'consultation': 1163, 'tore': 5329, 'celebrating': 914, 'selected': 4548, 'finalist': 1988, 'googlegays': 2296, 'sxswsex': 5077, 'gay': 2189, 'dating': 1366, 'grindr': 2338, 'magazines': 3210, 'truly': 5393, 'emotional': 1718, 'harlow': 2427, 'pragmatic': 4000, 'straight': 4933, 'pitchforks': 3890, 'widfy': 5740, 'rate': 4192, 'torturous': 5331, 'endorsed': 1735, 'html': 2585, 'sliced': 4717, 'bread': 755, 'revolutionary': 4364, 'sis': 4685, 'julie': 2893, 'rockaroke': 4406, 'struggle': 4956, 'hole': 2529, 'religion': 4294, 'atrix': 460, 'california': 848, 'followings': 2057, 'chevytweethouse': 980, 'delivery': 1421, 'meaning': 3297, 'hearing': 2460, 'career': 882, 'eat': 1668, 'rhizome': 4371, 'sxswk': 5067, 'dieing': 1484, 'hunger': 2595, 'postpc': 3982, 'competitor': 1117, 'creeper': 1282, 'suck': 4979, '97': 153, 'realllllllly': 4213, 'options': 3678, 'overload': 3722, 'delivered': 1419, 'curiosity': 1315, 'serendipity': 4566, 'countering': 1230, 'jetlag': 2859, 'ittttt': 2829, 'asddieu': 446, 'pumped': 4106, 'networking': 3532, 'shelves': 4616, 'feeding': 1947, 'frenzy': 2109, 'nokiaconnects': 3574, 'elonsxsw': 1710, 'ubiquity': 5455, 'apis': 382, 'visualizing': 5623, 'government': 2307, 'login': 3127, 'authorization': 492, 'error': 1778, 'employee': 1719, 'psyches': 4097, 'moments': 3421, 'luckily': 3177, 'lucky': 3178, 'latitude': 3002, 'concentrate': 1130, 'teamandroidsxsw': 5142, 'cause': 906, 'mr': 3465, 'heavenly': 2467, 'aka': 281, 'michael': 3344, 'cera': 926, 'bat': 580, 'cameras': 859, 'rigeur': 4382, 'timely': 5278, 'continues': 1178, 'rise': 4393, 'mwrc11': 3487, 'introduces': 2773, 'fair': 1898, 'innovation': 2718, 'dig': 1491, 'sad': 4446, 'chill': 985, 'drives': 1620, 'galore': 2172, 'earphones': 1656, '1k': 47, 'connects': 1155, 'advanced': 238, 'adopter': 233, 'gas': 2183, 'officially': 3635, 'yup': 5897, 'yawn': 5865, 'mbp': 3291, 'transparently': 5368, 'thisisdare': 5238, 'saber': 4444, 'barroom': 566, 'brawls': 752, 'fists': 2007, 'fab': 1881, 'workin': 5813, 'scored': 4511, 'plixi': 3930, '83323324': 140, '83323414': 141, 'familiarize': 1902, 'casually': 899, 'forecast': 2075, 'dow': 1596, 'mood': 3435, 'analysis': 335, 'smvis': 4757, 'imrich': 2674, 'marcelosomers': 3248, 'keys': 2921, 'worn': 5820, 'disagree': 1511, 'peter': 3850, 'minor': 3377, 'improvement': 2669, 'burn': 817, 'severely': 4590, 'autistic': 493, 'mastered': 3275, 'puzzles': 4126, 'rumours': 4437, 'bavc': 590, 'dashboard': 1360, 'collect': 1078, 'host': 2563, 'visualize': 5622, 'competition': 1116, 'winners': 5760, 'initial': 2710, 'impressions': 2665, 'nvidia': 3611, 'gaming': 2179, 'nope': 3579, 'seattle': 4531, 'restored': 4343, 'unleash': 5493, 'mixed': 3394, 'magnetic': 3215, 'overall': 3713, 'improvemnt': 2671, 'restore': 4342, 'dali': 1340, 'pak': 3750, 'vacation': 5564, 'exploiting': 1862, 'return': 4352, 'policy': 3946, 'imacs': 2642, 'ahhh': 268, 'darn': 1357, 'according': 189, 'ûïmore': 5945, 'assisted': 453, 'toast': 5302, 'australian': 488, 'digibiz': 1494, 'sides': 4660, 'killcommunity': 2937, 'twnp': 5443, 'blame': 674, 'fixing': 2014, 'preferrably': 4008, 'hashtags': 2433, 'deficit': 1401, 'banking': 557, 'tron': 5387, 'swish': 5039, 'scenes': 4493, 'blueray': 695, 'eminent': 1717, 'thoughtful': 5244, 'handwriting': 2412, 'conquered': 1156, 'hairy': 2396, 'butts': 828, 'fessing': 1961, 'admitting': 231, 'cohen': 1071, 'comcom': 1088, 'mike': 3357, 'tyson': 5449, 'wanting': 5666, 'unconfirmed': 5475, 'crossing': 1290, 'covering': 1242, 'asks': 450, 'reid': 4276, 'hoffman': 2526, 'summit': 4995, 'delight': 1416, 'floor': 2033, 'fondling': 2059, 'disturbing': 1541, 'ground': 2342, 'am': 316, 'blacked': 673, 'realizing': 4212, 'are': 419, 'designers': 1444, 'googleplaces': 2299, 'knockout': 2957, 'ireport': 2812, 'berklee': 632, 'topspin': 5327, 'class': 1020, 'apples': 399, 'woke': 5792, 'sandwiched': 4460, 'spring': 4862, 'break': 756, 'depressed': 1439, 'ûójust': 5953, 'macbooks': 3196, 'grouped': 2346, 'aber': 171, 'leider': 3041, 'nur': 3607, 'fì_r': 2156, 'livingthedream': 3109, 'ncaa': 3509, 'mmod': 3401, 'flawless': 2023, 'livesteam': 3106, 'bracket': 743, 'mute': 3485, 'plancast': 3903, 'exported': 1866, 'san': 4458, 'diego': 1483, 'pacific': 3735, 'shift': 4618, 'central': 920, 'tme': 5294, 'wack': 5643, 'mix': 3393, 'barrydiller': 568, 'james': 2838, 'franco': 2099, 'expert': 1856, 'demand': 1424, 'insatiable': 2725, 'surrounded': 5017, 'aquent': 414, '1415': 29, 'bereft': 630, 'wanderer': 5661, 'limp': 3084, 'lifeless': 3066, 'poetry': 3941, 'vufinders': 5638, '3x': 96, 'speedup': 4838, 'tagging': 5103, 'clear': 1027, 'points': 3944, 'throughout': 5252, 'overview': 3726, 'plunge': 3935, 'panhandling': 3759, 'what': 5723, 'tshirt': 5403, 'strangers': 4937, 'crash': 1257, '10mins': 13, 'fuckit': 2136, 'illmakeitwork': 2637, 'rockstache': 4411, 'techsmith': 5160, 'istache': 2823, '3blks': 90, 'address': 225, 'yeasayer': 5872, 'failing': 1896, 'paid': 3746, 'idontbelieve': 2624, 'helpful': 2478, 'three': 5248, 'artistic': 441, 'protecting': 4081, 'someones': 4797, 'thewildernessdowntown': 5222, 'thomas': 5240, 'gayno': 2190, 'choreography': 996, 'blurs': 698, 'avoid': 507, 'collectively': 1081, 'assistivetech': 454, 'augcomm': 478, 'hcsm': 2447, 'mhealth': 3341, 'covet': 1243, 'pp': 3996, '2yrs': 74, 'locating': 3120, 'earlier': 1653, 'tt': 5405, 'ff': 1968, 'bashing': 573, 'consistent': 1160, 'wowwwwww': 5830, 'periscope': 3842, 'danfung': 1350, 'demoing': 1428, 'immersive': 2649, 'rig': 4381, 'debating': 1385, 'role': 4412, 'enjoyed': 1749, 'existent': 1843, 'owllove': 3729, 'passport': 3797, 'pg': 3854, 'script': 4520, 'mock': 3409, 'remembered': 4303, 'horror': 2562, 'movies': 3459, 'yellow': 5874, 'pages': 3745, 'practice': 3999, 'abacus': 169, 'unloaded': 5496, 'refresh': 4262, 'åç': 5927, 'rails': 4174, 'deliver': 1418, 'confession': 1139, 'dom': 1569, 'organizing': 3692, 'denies': 1433, 'reily': 4278, 'pissedimnotgoingtosxsw': 3886, 'wknd': 5787, 'phew': 3857, 'beginning': 615, 'panic': 3760, 'innovating': 2717, 'talib': 5113, 'kweli': 2967, 'gogo': 2272, 'evening': 1799, 'karateka': 2908, 'castle': 898, 'wolfenstein': 5793, 'choplifter': 995, 'classics': 1022, 'oldsko0l': 3648, 'dan': 1346, 'neumann': 3534, 'organic': 3687, 'broadfeed': 785, 'ones': 3657, 'mypov': 3492, 'chevy': 977, 'cruze': 1300, 'losers': 3149, 'investors': 2782, 'propping': 4077, 'frothy': 2125, 'enterprise': 1758, 'teleporting': 5166, 'capabilities': 870, 'nokia': 3573, 'pushsnowboarding': 4122, 'shill': 4619, 'underestimate': 5476, 'appeal': 388, 'mayers': 3288, '12': 19, 'desperately': 1452, 'drooling': 1623, 'sillier': 4671, 'ended': 1734, 'ninja': 3568, 'wars': 5672, 'shoulda': 4642, 'wanna': 5662, 'producers': 4057, 'whether': 5725, 'nab': 3495, 'played': 3918, 'fruit': 2127, 'tnw': 5299, 'plaid': 3900, 'boys': 741, 'attracted': 470, 'define': 1402, 'thereby': 5220, 'defining': 1403, 'values': 5569, 'consumerist': 1167, 'tournament': 5343, 'pitted': 3892, 'round': 4420, 'swing': 5038, 'actsofsharing': 207, 'anticipate': 361, 'toting': 5335, 'inventing': 2777, 'dislike': 1528, 'innovate': 2716, 'fathom': 1929, 'succumb': 4978, 'upgrading': 5523, 'highlights': 2494, 'thus': 5261, 'istock': 2824, 'singularity': 4683, 'oy': 3733, 'das': 1359, 'verpixelungsrecht': 5583, 'ûóthe': 5955, 'pixelated': 3895, 'theft': 5208, 'hangover': 2416, 'breakfast': 758, 'yummy': 5896, 'tunes': 5414, 'griffin': 2335, 'cordless': 1210, 'told': 5305, 'brief': 769, 'paradigms': 3773, 'grrrr': 2354, 'muting': 3486, 'omitting': 3653, 'effective': 1693, 'h264': 2382, 'browserwars': 791, 'petricone': 3852, 'quantter': 4142, 'participating': 3782, 'launchrock': 3009, 'comp': 1107, 'ing': 2708, 'rating': 4195, 'recommendation': 4239, 'ip': 2790, 'hhaha': 2486, 'intimidated': 2767, 'unveils': 5513, 'greater': 2328, 'waaaaaa': 5642, 'sony': 4803, 'xperia': 5859, 'tuesday': 5408, 'heattracker': 2466, 'temperatures': 5173, '20s': 57, 'wkend': 5786, 'mass': 3272, 'influx': 2703, 'combine': 1086, 'flavor': 2021, 'abroad': 174, '4g': 109, 'connectivity': 1154, 'joe': 2868, 'berry': 635, 'connectedcar': 1152, 'g03mzb': 2157, 'inspired': 2734, 'ed': 1681, 'justinjustinjustin': 2898, 'curious': 1316, 'ref': 4259, 'favour': 1936, '150m': 33, 'noes': 3572, 'rejection': 4279, 'gotten': 2305, 'pleased': 3927, 'clients': 1034, 'anxious': 367, 'wonders': 5800, 'kingston': 2945, 'cheer': 973, 'reasonable': 4219, 'auth': 490, 'computers': 1128, 'fantastico': 1913, 'toooo': 5321, 'road': 4400, 'dawg': 1370, 'observations': 3619, 'vast': 5570, 'majority': 3220, 'appletakingoverworld': 400, 'ogilvy': 3639, 'autocorrects': 497, 'idiocy': 2620, 'ogilvynotes': 3640, 'peaked': 3820, 'surface': 5012, 'complex': 1124, 'intricate': 2769, 'underneath': 5477, 'agenda': 257, 'reminding': 4304, 'facts': 1892, 'belong': 624, 'strive': 4952, 'complement': 1120, 'artwork': 443, 'showcases': 4649, 'equity': 1774, 'attached': 462, 'honor': 2543, 'landlords': 2980, 'leasing': 3032, 'agents': 258, 'utilize': 5555, 'shops': 4634, 'millions': 3363, 'docs': 1555, 'incenticize': 2680, 'teams': 5143, 'cashmere': 895, 'parachute': 3772, 'andrew': 339, 'prx': 4090, 'equates': 1773, 'homogeneity': 2541, 'predictability': 4004, 'west': 5719, 'imaconf': 2641, 'drumbeat': 1629, 'mojo': 3416, 'urthots': 5534, 'guru': 2376, 'express': 1868, 'scepticism': 4494, 'surplus': 5014, 'leash': 3031, 'payments': 3812, 'yowza': 5893, 'myegc': 3490, 'stats': 4897, 'coolaid': 1197, 'intel': 2747, 'thegogame': 5209, 'revealed': 4355, 'team_android': 5140, 'euphoria': 1793, 'centric': 922, 'advantage': 239, 'teeth': 5164, 'hawt': 2444, 'howmto': 2578, 'usdes': 5540, 'learnt': 3030, 'jesus': 2857, 'allhat': 297, 'arriving': 433, '2åê': 75, 'macbookpro': 3195, 'pandora': 3754, 'stumbledupon': 4965, 'holytrafficjams': 2537, 'ûïline': 5944, 'signals': 4666, 'cedar': 912, 'sxswbarcrawl': 5057, 'gun': 2375, 'nutshell': 3609, 'pseudoretweet': 4092, 'democracy': 1426, 'mobs': 3408, 'hive': 2518, 'again': 252, 'affirmative': 247, 'nptech': 3600, 'multiple': 3471, 'monetization': 3426, 'cheapen': 965, 'etsy': 1792, 'realtalk': 4215, 'stops': 4926, 'argues': 423, 'exceptionally': 1829, 'frm': 2119, 'comments': 1099, 'h2o': 2383, '8th': 146, 'cheap': 964, 'excel': 1826, 'buzzmetrics': 835, 'radian6': 4168, 'altimeter': 313, 'sloansxsw': 4723, 'beyondwc': 648, '101': 9, 'standard': 4877, 'csr': 1302, 'janecek': 2840, 'bright': 770, 'develop': 1461, 'chilltab': 986, 'damon': 1345, 'upstairs': 5530, 'guardian': 2363, 'eye': 1877, 'sd': 4521, 'storage': 4927, 'iusxsw': 2833, 'cried': 1284, 'frid': 2114, 'compact': 1108, 'disk': 1527, 'mill': 3360, 'slightly': 4720, 'thinner': 5234, 'earths': 1662, 'smudgy': 4753, 'fundraising': 2146, 'kiosk': 2946, 'waze': 5688, 'duking': 1640, 'mapping': 3243, 'maudies': 3282, 'tacos': 5101, 'ajs2011': 280, 'diabetes': 1476, 'plate': 3913, 'absolutely': 176, 'schtuff': 4505, 'iqlab': 2809, '_______': 162, 'answered': 359, 'looseorganizations': 3144, '30p': 81, 'saturday': 4466, 'andro': 341, 'curated': 1313, 'quotes': 4164, 'donate': 1574, 'victims': 5593, 'preferences': 4007, 'seenocreepy': 4544, '16gb': 40, 'go2': 2263, 'antonio': 364, 'kudos': 2966, 'quarter': 4144, 'tbwasxsw': 5131, 'sat': 4464, 'convenient': 1184, 'speaks': 4833, 'demonstrates': 1430, 'pause': 3807, 'tveverywhere': 5423, 'mindtouchers': 3372, 'mindtouch': 3371, 'tcs': 5134, 'tweethouse': 5431, 'rana': 4181, 'dotco': 1589, 'backupify': 533, 'announces': 352, 'cloudsight': 1046, 'searchable': 4524, 'archive': 416, 'ge': 2192, 'solar': 4784, 'powered': 3989, 'carousel': 884, 'park': 3777, 'amen': 323, 'studying': 4963, 'flocking': 2031, 'swarming': 5029, 'behavior': 620, 'collab': 1077, 'due': 1638, 'showcase': 4647, 'bounced': 730, 'admired': 227, 'classy': 1024, 'rerouted': 4323, 'images': 2644, 'jcpenney': 2847, 'macys': 3202, 'trashy': 5369, 'restraunts': 4344, 'implode': 2660, 'activity': 205, 'lightbox': 3070, 'finalists': 1989, 'mk': 3396, 'claims': 1017, 'ratio': 4197, 'raffled': 4171, 'inbox': 2678, 'peer': 3827, 'ecodriving': 1677, 'habits': 2386, 'ûï35': 5941, 'cunning': 1308, 'lat': 2994, 'deliciously': 1414, 'cartel': 889, 'military': 3359, 'scientific': 4508, 'dictatorship': 1479, 'takeover': 5107, 'rant': 4190, 'deviantart': 1467, 'buys': 832, 'tests': 5190, 'muro': 3472, 'drawing': 1611, 'htt': 2587, 'beards': 602, 'hollywood': 2535, 'silicon': 4670, 'meets': 3311, 'nyc': 3613, 'sunny': 5000, 'pool': 3952, 'cowboy': 1245, 'boots': 715, 'vibe': 5591, 'epicurious': 1772, 'moma': 3418, 'guards': 2364, 'reports': 4318, 'unveil': 5510, 'fed': 1945, 'angrybirds': 346, 'julian': 2892, 'screamed': 4514, 'zone': 5918, 'pigfucker': 3878, 'snakeheead': 4761, 'fodder': 2049, 'snubor': 4767, 'gains': 2169, 'traction': 5352, 'knife': 2955, 'psfk': 4093, 'gabacustweets': 2160, 'brk': 781, 'geeking': 2203, '4android': 107, 'integration': 2746, 'mappers': 3242, 'gallery': 2171, 'daniel': 1354, 'johnston': 2869, 'gatekeeper': 2185, 'ht': 2583, 'pixel': 3894, 'aim': 272, 'promote': 4073, 'communal': 1102, 'restaurants': 4339, 'recos': 4246, 'um': 5460, 'skiers': 4700, 'overlaid': 3719, 'mountain': 3451, 'empty': 1723, 'positioning': 3972, 'savebrands': 4469, 'latina': 2999, 'porn': 3967, 'latism': 3001, 'sxswlatam': 5068, 'latinasintech': 3000, 'providing': 4088, 'tested': 5188, '41': 100, 'difference': 1489, 'nuances': 3603, 'matter': 3280, 'rww': 4442, 'f6bcet': 1880, 'goody': 2287, 'incapable': 2679, 'disruptive': 1535, 'acquired': 197, '89': 142, 'extolling': 1872, 'coolness': 1201, 'vmware': 5624, 'talent': 5111, 'signing': 4668, 'jaloux': 2837, 'school': 4502, 'skinny': 4704, 'flannel': 2016, 'beard': 601, 'imanoutcast': 2647, 'hah': 2392, '2moro': 70, 'organize': 3690, 'realtime': 4216, 'ducks': 1636, 'client': 1033, 'foodies': 2063, 'arw': 445, 'dine': 1501, 'oversized': 3724, 'pluged': 3933, 'loose': 3143, 'laws': 3014, 'pot': 3983, 'huzzah': 2602, 'umassjour': 5461, 'nerdsunite': 3524, 'fit': 2008, '400': 98, 'shuffling': 4656, 'eyes': 1879, 'effing': 1695, 'hubby': 2590, 'number': 3606, 'referrals': 4260, '12th': 23, 'zaarlyiscoming': 5899, 'coupons': 1234, 'dodo': 1559, 'memolane': 3320, '12b': 22, 'jr': 2886, 'unstable': 5507, 'nten': 3601, '11ntc': 17, 'raised': 4177, 'gotto': 2306, 'shallow': 4600, 'austincrowd': 484, 'aiding': 271, 'size': 4694, 'googled': 2293, 'direction': 1504, 'slips': 4722, 'jammy': 2839, 'bugger': 802, 'fastcompanygrille': 1924, 'makery': 3222, 'zaggle': 5901, 'zms': 5915, 'lamesauce': 2978, 'finished': 2001, 'sightings': 4663, 'piss': 3885, 'pissing': 3887, 'kiiiiiilling': 2934, 'survey': 5019, 'starbucks': 4882, 'gratification': 2326, 'tweetignite': 5433, 'marc': 3247, 'ecko': 1676, 'autodial': 498, 'political': 3947, 'edreform': 1687, 'eduvc': 1691, 'fightthepaddle': 1975, 'cm48': 1050, 'circus': 1010, 'workspace': 5816, 'virtualoffice': 5612, 'tool': 5317, 'measuring': 3302, 'displaying': 1533, 'cry': 1301, 'slp': 4729, 'videogames': 5597, 'cartoon': 890, 'ûïview': 5949, 'stumbling': 4966, 'contact': 1170, 'application': 402, 'fricking': 2113, 'science': 4507, 'readership': 4204, 'opportunity': 3673, 'ignore': 2631, 'boyfriends': 740, 'donline': 1580, 'dk': 1548, 'nerdbird': 3519, 'wal': 5650, 'mart': 3265, 'ooooo': 3663, 'mobileroadie': 3407, '300': 77, 'suxsw': 5026, 'throw': 5253, 'tchin': 5133, 'papa': 3766, 'sangre': 4461, 'audio': 477, 'recommended': 4241, 'papasangre': 3767, 'journalsim': 2881, 'informed': 2707, 'populous': 3962, 'themed': 5213, 'costume': 1224, 'yep': 5877, 'organization': 3689, 'poor': 3954, 'coincides': 1073, 'begin': 614, 'weeping': 5710, 'preparing': 4018, 'qrafter': 4132, 'vcards': 5572, 'qrcode': 4134, 'questioner': 4149, 'caused': 907, 'giggle': 2234, 'laugh': 3003, 'https': 2589, 'borderstylo': 718, 'machines': 3199, 'electronics': 1705, 'smm': 4747, 'exactly': 1823, 'slice': 4716, 'pcbuzz': 3815, 'intrestin': 2768, 'pauly': 3806, 'celebs': 915, 'simplicity': 4675, 'cn': 1053, 'eightbit': 1701, 'zazzlsxsw': 5906, 'dr_black': 1606, 'jerranalley': 2855, 'tbalinas': 5130, 'member': 3319, 'carrying': 887, 'bags': 540, 'wolfram': 5794, 'sheraton': 4617, 'smartest': 4737, 'imho': 2648, 'shut': 4657, 'i41h53': 2606, 'breakdown': 757, '98': 154, '03': 2, '02': 1, 'symbian': 5084, 'kickass': 2927, 'sms': 4751, 'pink': 3882, 'soundtrckr': 4817, 'staff': 4874, 'facepalmed': 1886, 'ugh': 5457, 'longlinesbadux': 3135, 'strange': 4934, 'penetrates': 3830, 'bubble': 798, 'tvs': 5425, 'scarbrough': 4487, 'closed': 1040, 'cops': 1206, 'barring': 565, 'ludicon': 3179, 'ossum': 3699, 'cut': 1326, 'cocaine': 1063, 'facetime': 1887, 'mel': 3318, 'gibson': 2230, 'cartoonishly': 891, 'large': 2987, 'cstejas': 1303, 'fin': 1986, 'serv': 4570, 'operators': 3671, 'banks': 560, 'bankinnovate': 558, 'judging': 2888, 'designingforkids': 1447, 'relationship': 4282, 'sapient': 4463, 'upside': 5529, 'designer': 1443, 'train': 5359, 'thier': 5225, 'former': 2085, 'chief': 982, 'officer': 3633, 'advisory': 244, 'innotribe': 2715, 'openexhibits': 3668, 'wakeuplaughing': 5648, 'itun': 2830, 'es': 1780, 'ifr3dw': 2628, 'ray': 4198, 'additional': 224, 'npr': 3599, 'songs': 4801, 'named': 3500, 'ten': 5179, 'decent': 1390, 'heating': 2463, 'rewards': 4367, 'titles': 5290, 'pep': 3834, 'upc': 5517, 'edition': 1686, '2nite': 72, 'b4': 525, 'hosting': 2565, 'cmty': 1052, 'mngr': 3403, '8p': 144, 'haven': 2440, 'relic': 4291, 'topicality': 5323, 'reputation': 4322, 'rules': 4433, '96': 151, 'eyeballed': 1878, 'ip4': 2791, '1413': 28, 'glenda': 2253, 'watson': 5683, 'cerebral': 928, 'palsy': 3753, 'communicate': 1103, 'lobby': 3115, 'speller': 4840, 'autocorrected': 496, 'impactdashboard': 2654, 'become': 608, 'cle': 1025, 'motherboard': 3447, 'developed': 1462, 'cheese': 975, 'valid': 5565, 'tho': 5239, '2honor': 69, 'suffered': 4985, 'zazzle': 5904, 'grille': 2337, 'mania': 3236, 'filters': 1985, 'v1': 5560, 'crapped': 1254, 'goers': 2268, 'sore': 4807, 'amusing': 333, 'starbu': 4881, 'cks': 1016, 'acrosse': 199, 'unpack': 5502, 'creatively': 1275, 'socialmediabum': 4774, 'honors': 2544, 'conversations': 1190, 'from': 2120, 'powerful': 3990, 'motivator': 3449, 'earbud': 1651, 'headphones': 2454, 'cables': 842, 'museum': 3475, 'magnifying': 3216, 'vectors': 5574, 'dimensional': 1500, 'transition': 5364, 'cup': 1309, 'leaked': 3024, 'goo': 2281, 'jqtouch': 2885, 'geekery': 2200, 'pix': 3893, 'mirroring': 3383, 'hdmi': 2448, 'cable': 841, 'gents': 2217, 'scouts': 4513, 'planting': 3911, 'atms': 459, 'ca': 838, 'thinmints': 5233, 'bastards': 579, 'obviously': 3625, 'shell': 4615, '1500': 32, 'visiting': 5616, 'accommodate': 188, 'influencers': 2702, 'dropped': 1625, 'estate': 1787, 'invest': 2779, '0310apple': 3, 'bestie': 638, 'recipes': 4231, 'hype': 2604, 'viagra': 5590, 'communications': 1105, 'expansion': 1846, 'outlook': 3709, 'antwoord': 365, 'korine': 2964, '11th': 18, 'lynn': 3190, 'teo': 5182, 'alphagraphics': 306, 'laser': 2991, 'prints': 4043, 'optimized': 3676, 'ripping': 4392, 'joomla': 2876, 'gah': 2166, 'torture': 5330, 'addictedtotheinterwebs': 218, 'yea': 5867, 'bricklin': 767, 'notetaker': 3586, 'chokes': 993, 'tougher': 5341, 'colin': 1076, 'quinn': 4158, 'environment': 1766, 'theplatform': 5216, 'googlebread': 2291, 'lil': 3081, 'crappy': 1255, 'crazyfest': 1268, 'rolled': 4414, 'functionality': 2144, 'africans': 250, 'capped': 872, 'iwantacameraonmyipad': 2834, 'mkesxsw': 3397, 'wisconsin': 5771, '17': 42, 'ink': 2712, 'miamibeach': 3342, 'enviro': 1765, 'bin': 658, 'greatergood': 2329, 'routing': 4423, 'copia': 1204, 'cocoon': 1065, 'messenger': 3334, 'redbox': 4252, 'gilt': 2237, 'graphic': 2323, 'sesh': 4578, 'dawned': 1372, 'timed': 5276, 'gain': 2167, 'maximum': 3284, '16162': 38, 'allows': 301, 'benefit': 628, 'ma': 3191, 'zing': 5912, 'sxsurrogates': 5051, 'atzip': 474, 'swift': 5037, 'upbeat': 5516, 'rises': 4395, 'dangling': 1353, 'lions': 3093, 'irresistible': 2817, 'unfair': 5485, 'borrowing': 723, 'chk': 990, 'slow': 4725, 'idiot': 2621, 'smcomedyfyeah': 4744, '81': 138, 'worried': 5821, 'midway': 3354, 'toured': 5342, 'shaping': 4604, 'toocoolforsxswanyway': 5314, 'preparations': 4016, 'beach': 598, 'geekspringbreak': 2206, 'antigov': 362, 'lobbying': 3116, 'initiative': 2711, 'invoking': 2787, 'puregenius': 4116, 'path': 3803, 'weight': 5711, 'lockers': 3123, 'registrant': 4269, 'juiced': 2890, 'sonos': 4802, 'side': 4659, 'cactus': 844, 'balcony': 545, 'shatter': 4612, 'gogglers': 2270, 'marketer': 3260, 'newspapers': 3545, 'permanently': 3844, 'convience': 1192, 'drunk': 1631, 'hahaha': 2394, 'ships': 4625, 'methinks': 3338, 'capitol': 871, 'fulltime': 2140, 'eh': 1700, 'nudgenudge': 3604, 'actors': 206, 'diet': 1486, 'planzai': 3912, 'tipped': 5285, 'creates': 1272, 'peddle': 3822, 'daylight': 1374, 'savings': 4474, 'bug': 801, 'whoops': 5735, 'sells': 4554, 'ughhh': 5458, 'domain': 1570, 'rain': 4175, 'purchases': 4113, 'regrets': 4271, 'disrupts': 1536, 'preferred': 4009, 'tune': 5411, 'groupchatapps': 2345, 'orlando': 3695, 'attended': 465, '100tc': 8, 'felt': 1958, 'prob': 4051, 'sxprotect': 5049, 'renders': 4308, 'landscapes': 2982, 'included': 2683, 'basic': 574, 'percent': 3836, 'understanding': 5479, 'internetonlinewebsite': 2762, 'perserverance': 3845, 'vote': 5633, 'husband': 2601, 'depeche': 1438, 'prettycool': 4032, 'chevysxsw': 979, 'ringing': 4387, 'softlayer': 4782, 'server': 4573, 'challenge': 935, 'äá': 5925, 'hash': 2430, 'nerdiest': 3522, 'spiltbeer': 4846, 'consequences': 1158, 'generally': 2211, 'doubly': 1591, 'handicapped': 2405, 'assume': 455, 'ditch': 1542, 'previous': 4035, '47': 104, 'nutters': 3610, 'ipading': 2799, 'techno': 5157, 'mecca': 3304, 'seated': 4529, 'bowl': 734, 'armadillo': 427, 'frabjous': 2094, 'callooh': 853, 'callay': 850, 'baaah': 526, 'ûólewis': 5954, 'carroll': 885, 'swarms': 5030, 'distract': 1539, 'pubs': 4103, 'sez': 4593, 'exp': 1845, 'delivering': 1420, 'elusive': 1712, 'radical': 4169, 'arcade': 415, 'wilderness': 5747, 'frustrating': 2129, 'zeldman': 5909, 'zelda': 5908, 'jzsxsw': 2905, 'whoooooo': 5734, 'described': 1440, 'orly': 3696, 'lanyrd': 2983, 'basket': 578, 'v3': 5562, 'stepped': 4910, 'ûïfoursquare': 5943, 'temperature': 5172, 'fiving': 2012, 'sec': 4532, 'enuf': 1764, 'chumps': 1003, 'nightjar': 3563, 'ability': 172, 'brushstroke': 794, 'loveher': 3163, 'xplat': 5860, 'promises': 4071, 'ther': 5217, 'deck': 1395, 'unlockable': 5498, 'googleblog': 2290, 'imo': 2651, 'balckberries': 544, 'andriod': 340, 'durable': 1643, 'therefore': 5221, 'repressed': 4319, 'memories': 3321, 'spinning': 4848, 'ball': 546, 'progressbar': 4065, 'respectfully': 4332, 'ubiquitous': 5454, 'project314': 4068, 'popupshop': 3964, 'adaptive': 214, 'skillfully': 4702, 'cupertino': 1311, 'over': 3712, '310409h2011': 83, 'plain': 3901, 'itself': 2828, 'proud': 4084, 'scoping': 4509, 'proven': 4085, 'untrue': 5509, 'announcement': 350, 'everyday': 1811, 'macs': 3201, 'monster': 3431, 'anxiety': 366, 'fits': 2009, 'personalcloud': 3848, 'merchant': 3328, 'ûïspecials': 5947, 'flashspecial': 2019, 'thunder': 5259, 'we': 5689, '2b': 67, 'niceness': 3558, 'september': 4565, 'spontaniety': 4856, 'bday': 596, 'pressie': 4029, 'wkd': 5785, 'indigenous': 2694, 'tribes': 5380, 'statuses': 4899, 'forests': 2076, 'booze': 717, 'frood': 2123, '157': 34, 'gigs': 2236, 'circusmash': 1011, 'ecademy': 1674, 'itme': 2827, '30a': 79, 'manhandling': 3235, 'unoffic': 5500, '90': 147, 'tan': 5118, 'coverage': 1240, 'position': 3971, 'china': 987, 'suicide': 4991, 'rates': 4193, 'adventure': 241, 'aclus': 196, 'cites': 1013, 'resting': 4341, 'leisurely': 3043, 'desktops': 1450, 'slower': 4726, 'nevertheless': 3536, 'hints': 2502, 'messed': 3333, 'yonkers': 5886, 'ming': 3374, 'moves': 3457, 'stays': 4902, 'hurt': 2600, 'sending': 4560, 'lorry': 3147, 'riots': 4389, 'ensue': 1754, 'lazyweb': 3019, 'mixing': 3395, 'globally': 2257, 'implement': 2657, 'eventually': 1805, 'theem': 5207, 'spazmatic': 4827, 'hoooooooooooooo': 2548, 'register': 4267, 'liberty': 3060, 'and': 337, 'sxswpass': 5075, 'experiential': 1853, 'xm': 5855, 'popplet': 3959, 'hordes': 2559, 'purchasers': 4112, 'tweeps': 5426, 'ical': 2609, 'goin': 2273, 'seta': 4582, 'educational': 1690, 'tunehopper': 5413, 'gmail': 2261, 'synching': 5088, 'socialmuse': 4775, 'lookalike': 3137, 'appcircus': 387, 'tweetie': 5432, 'leopard': 3047, 'pariah': 3776, 'activate': 203, 'cellular': 917, 'warning': 5671, 'loves': 3167, 'obsessed': 3621, 'feckin': 1944, 'scary': 4490, 'boss': 724, 'recognizing': 4236, 'relevance': 4289, 'corps': 1217, 'syked': 5083, 'topics': 5324, 'sexy': 4592, 'soul': 4812, 'rotational': 4419, 'viewing': 5603, 'mail': 3218, 'finish': 2000, 'wundertablet': 5847, 'touching': 5338, 'complicated': 1125, 'naive': 3498, 'wishful': 5774, 'semis': 4558, 'filled': 1979, 'masses': 3273, 'bump': 814, 'ensues': 1755, 'ûïthe': 5948, 'messina': 3335, 'knowledge': 2960, 'identity': 2619, 'leo': 3046, 'email': 1713, 'disneyland': 1531, 'happiest': 2422, 'resetting': 4326, 'produced': 4056, 'spazzmatics': 4829, 'slick': 4718, 'conveniently': 1185, 'rf': 4369, 'dissapointment': 1537, 'foosspotting': 2067, 'guides': 2371, 'bumped': 815, 'lottery': 3154, 'ticket': 5264, 'cast': 897, 'characters': 949, 'stroke': 4953, 'vestibule': 5587, '64g': 125, 'replenished': 4313, 'presos': 4027, 'uncertainty': 5473, 'telegraph': 5165, 'semi': 4557, 'justsayin': 2900, 'upon': 5525, 'illa': 2635, '360': 88, 'panorama': 3763, 'nba': 3507, 'courtside': 1237, 'itwillbemine': 2832, 'certificate': 930, 'nonprofit': 3576, 'nonprofits': 3577, 'ipad2time': 2796, 'frustration': 2130, 'glued': 2260, 'resonance': 4328, 'marisa': 3252, 'mater': 3277, 'hotspot': 2570, 'idk': 2622, 'newtrent': 3547, 'imp1000': 2652, 'unpaid': 5503, 'drupalcon': 1632, 'firstworldproblems': 2005, 'ihop': 2633, 'excitement': 1832, 'buggy': 803, 'lately': 2996, 'custome': 1322, 'blackbook': 672, 'advent': 240, 'accessible': 184, 'ebooks': 1673, 'generations': 2213, 'landmark': 2981, 'blind': 679, 'unbelievable': 5470, 'recorder': 4244, 'reddit': 4255, 'moonshine': 3438, 'hr': 2581, 'squeal': 4868, 'virginity': 5609, 'åçwhat': 5928, 'turns': 5420, 'douchebag': 1594, 'gawking': 2188, 'futurecast': 2150, 'champ': 938, 'imanidiot': 2646, 'oooh': 3662, 'recycled': 4250, 'skateboards': 4695, 'damm': 1342, 'captain': 873, 'penguin': 3832, 'pengairborne': 3831, 'takin': 5109, 'mic': 3343, 'brother': 787, 'acceptable': 181, 'warmth': 5670, 'upset': 5528, 'installs': 2740, 'visitors': 5617, 'tattooed': 5125, 'sketchy': 4698, 'bite': 666, 'fleets': 2024, 'armed': 428, 'swoon': 5044, 'nerdcore': 3520, 'idol': 2623, 'ingenious': 2709, 'ireports': 2813, 'brilliance': 773, '5th': 123, '200': 53, 'bart': 570, 'retweeting': 4354, 'jeanne': 2849, 'retweet': 4353, 'uppward': 5526, 'jerk': 2854, 'awe': 516, 'jetsons': 2860, 'crack': 1249, 'facist': 1889, 'switches': 5042, 'does': 1560, 'glowing': 2259, 'cups': 1312, 'units': 5491, 'comfortable': 1094, 'tricked': 5381, 'birthday': 664, 'net': 3527, 'flap': 2017, 'peeked': 3825, 'did': 1480, 'journalists': 2880, 'afford': 248, 'bother': 726, 'scheduler': 4498, 'hipstapaks': 2505, 'austinwins': 487, '2am': 66, 'disrupt': 1534, 'riding': 4380, '210': 59, 'unveiled': 5511, 'jet': 2858, 'betainvites': 641, '1m': 48, 'ea1zgd': 1649, 'breakthrough': 761, 'activations': 204, 'mission': 3387, 'haiti': 2397, 'executing': 1838, 'jose': 2877, 'bff': 649, 'bernd': 634, 'florian': 2035, 'guguchu': 2368, 'terminal': 5184, 'compete': 1115, 'patience': 3804, 'douchebaggery': 1595, 'kenny': 2917, 'enjoys': 1751, 'spanking': 4824, 'urinal': 5532, 'sweepstakes': 5034, 'tattoo': 5124, 'chalked': 934, 'pavement': 3808, 'applefanatic': 398, 'toolkit': 5318, 'bike': 655, 'rei': 4275, 'sxswtoolkit': 5079, 'digging': 1493, 'craps': 1256, 'rematch': 4300, 'omaha': 3649, 'seemed': 4540, 'offering': 3630, 'anyways': 375, 'logical': 3126, 'progression': 4066, 'intriguing': 2770, 'chatter': 962, 'introducing': 2774, 'affair': 246, 'print': 4041, 'cuts': 1328, 'bugs': 804, 'sweets': 5036, 'economies': 1678, 'continual': 1176, 'pgi': 3855, 'borrow': 722, '82': 139, 'choose': 994, 'awhile': 521, 'visualisation': 5620, 'ghost': 2228, 'movement': 3455, 'pacman': 3741, 'rebecca': 4222, 'distribution': 1540, 'recipient': 4232, 'ungrateful': 5486, 'with': 5776, 'sheeple': 4614, 'gesture': 2222, 'ahem': 266, 'mounts': 3452, 'journal': 2879, 'momento': 3420, '59p': 119, '99å': 156, 'catfight': 903, 'patented': 3802, 'mentionn': 3326, 'notch': 3583, 'stellar': 4908, 'smooth': 4750, 'showusyouricrazy': 4654, 'eff': 1692, 'reliving': 4297, 'completes': 1123, 'letters': 3054, 'ben': 627, 'benieuwd': 629, 'indicates': 2692, 'widgets': 5741, 'tube': 5407, 'his': 2512, 'hint': 2501, 'heavens': 2468, 'travelers': 5372, 'delayed': 1409, 'passenger': 3793, 'girlcrush': 2240, 'shortly': 4638, 'overshadowing': 3723, 'arrives': 432, 'porting': 3969, 'syncing': 5089, '3k': 94, 'while': 5726, 'hpsxsw': 2580, 'rescuing': 4324, 'envisioning': 1768, 'broadcast': 783, 'area': 420, 'auntie': 481, 'voxpop': 5634, 'channel': 946, 'volunteers': 5631, '45am': 103, 'alt': 309, 'universe': 5492, 'fastest': 1926, 'reach': 4199, 'mxm': 3488, 'firm': 2003, 'goer': 2267, 'halls': 2401, 'bicycle': 651, 'cursing': 1319, 'losing': 3150, 'zzzs': 5920, 'sitby': 4688, 'include': 2682, 'hollow': 2533, 'freemusic': 2106, 'teeny': 5163, 'steady': 4903, 'winamp': 5754, 'direct': 1503, 'quarters': 4145, 'extenders': 1871, 'tight': 5269, 'endeavor': 1733, 'ummmm': 5463, 'djroe': 1547, 'chances': 940, 'lookin': 3139, 'north': 3581, 'apartment': 380, 'wires': 5770, 'livetapp': 3107, 'raffling': 4172, 'thirsty': 5236, 'walkin': 5653, 'yelping': 5876, 'the_daily': 5205, 'appear': 390, 'festivalexplorer': 1965, 'solves': 4791, 'musica': 3478, 'musiek': 3481, 'musique': 3483, 'musik': 3482, 'ù_¾': 5933, 'captured': 875, 'lessons': 3049, 'sheen': 4613, 'spider': 4844, 'bryce': 795, 'manor': 3237, '99': 155, 'cents': 923, 'pdx': 3819, 'epicenter': 1771, 'settle': 4585, 'argument': 424, 'parentheses': 3774, 'wordnerd': 5807, 'mifi': 3355, 'solid': 4787, 'resource': 4329, 'tenets': 5180, 'newly': 3540, 'traveling': 5373, 'impedimenta': 2656, 'photosharing': 3864, 'ck': 1015, 'culture': 1307, 'documented': 1556, 'geekest': 2201, 'hidden': 2489, 'sorted': 4811, 'appealing': 389, 'adapt': 213, 'overcome': 3715, 'creativity': 1276, 'prompt': 4075, 'virtually': 5611, 'panelist': 3756, 'grew': 2333, 'mins': 3378, 'wut': 5848, 'francisco': 2098, 'sfo': 4594, 'legacy': 3039, 'extras': 1875, 'breeds': 764, 'midst': 3353, 'mar': 3246, 'favorited': 1934, 'doo': 1583, 'dah': 1335, 'pushio': 4121, 'amazon': 320, 'tmrw': 5297, 'tweetcaster': 5428, 'zip': 5913, 'keywords': 2922, 'hashtag': 2432, 'padless': 3742, 'bmm': 699, 'sxswmymistake': 5072, 'gathering': 2186, 'grown': 2352, 'men': 3322, 'hooting': 2551, 'cords': 1211, 'princess': 4039, 'papyrus': 3770, 'sort': 4809, 'lavelle': 3012, 'playstation': 3924, 'xbox': 5852, 'essentially': 1785, 'stabilizer': 4872}\n"
     ]
    }
   ],
   "source": [
    "# summarize\n",
    "print(vectorizer.vocabulary_)"
   ]
  },
  {
   "cell_type": "code",
   "execution_count": 1341,
   "metadata": {},
   "outputs": [
    {
     "name": "stdout",
     "output_type": "stream",
     "text": [
      "Vector Type:  <class 'sklearn.feature_extraction.text.CountVectorizer'>\n"
     ]
    }
   ],
   "source": [
    "print(\"Vector Type: \", type(vectorizer))"
   ]
  },
  {
   "cell_type": "code",
   "execution_count": 1342,
   "metadata": {},
   "outputs": [],
   "source": [
    "vector = vectorizer.transform(df_tweets1[\"text\"])"
   ]
  },
  {
   "cell_type": "code",
   "execution_count": 1343,
   "metadata": {},
   "outputs": [
    {
     "name": "stdout",
     "output_type": "stream",
     "text": [
      "<class 'scipy.sparse.csr.csr_matrix'>\n",
      "[[0 0 0 ... 0 0 0]\n",
      " [0 0 0 ... 0 0 0]\n",
      " [0 0 0 ... 0 0 0]\n",
      " ...\n",
      " [0 0 0 ... 0 0 0]\n",
      " [0 0 0 ... 0 0 0]\n",
      " [0 0 0 ... 0 0 0]]\n"
     ]
    }
   ],
   "source": [
    "print(type(vector))\n",
    "print(vector.toarray())"
   ]
  },
  {
   "cell_type": "markdown",
   "metadata": {
    "colab_type": "text",
    "id": "5pxd5fSHH0Nt"
   },
   "source": [
    "### 5. Find number of different words in vocabulary"
   ]
  },
  {
   "cell_type": "code",
   "execution_count": 1344,
   "metadata": {
    "colab": {},
    "colab_type": "code",
    "id": "p1DQ2LdNH0Nu"
   },
   "outputs": [
    {
     "data": {
      "text/plain": [
       "5956"
      ]
     },
     "execution_count": 1344,
     "metadata": {},
     "output_type": "execute_result"
    }
   ],
   "source": [
    "len(vectorizer.get_feature_names())"
   ]
  },
  {
   "cell_type": "markdown",
   "metadata": {
    "colab_type": "text",
    "id": "dwtgjTBeH0Ny"
   },
   "source": [
    "#### Tip: To see all available functions for an Object use dir"
   ]
  },
  {
   "cell_type": "code",
   "execution_count": null,
   "metadata": {
    "colab": {},
    "colab_type": "code",
    "id": "2n_iCcTNH0N0"
   },
   "outputs": [],
   "source": []
  },
  {
   "cell_type": "markdown",
   "metadata": {
    "colab_type": "text",
    "id": "ShA6D8jKH0N5"
   },
   "source": [
    "### 6. Find out how many Positive and Negative emotions are there.\n",
    "\n",
    "Hint: Use value_counts on that column"
   ]
  },
  {
   "cell_type": "code",
   "execution_count": 1345,
   "metadata": {
    "colab": {},
    "colab_type": "code",
    "id": "q7LAl5pzH0N6"
   },
   "outputs": [
    {
     "data": {
      "text/plain": [
       "Positive emotion    2978\n",
       "Negative emotion     570\n",
       "Name: is_there_an_emotion_directed_at_a_brand_or_product, dtype: int64"
      ]
     },
     "execution_count": 1345,
     "metadata": {},
     "output_type": "execute_result"
    }
   ],
   "source": [
    "df_tweets1[emotion_colname].value_counts()"
   ]
  },
  {
   "cell_type": "markdown",
   "metadata": {
    "colab_type": "text",
    "id": "IUvgj0FoH0N9"
   },
   "source": [
    "### 7. Change the labels for Positive and Negative emotions as 1 and 0 respectively and store in a different column in the same dataframe named 'Label'\n",
    "\n",
    "Hint: use map on that column and give labels"
   ]
  },
  {
   "cell_type": "code",
   "execution_count": 1346,
   "metadata": {
    "colab": {},
    "colab_type": "code",
    "id": "YftKwFv7H0N9"
   },
   "outputs": [
    {
     "name": "stderr",
     "output_type": "stream",
     "text": [
      "<ipython-input-1346-36395c1f6296>:1: SettingWithCopyWarning: \n",
      "A value is trying to be set on a copy of a slice from a DataFrame.\n",
      "Try using .loc[row_indexer,col_indexer] = value instead\n",
      "\n",
      "See the caveats in the documentation: https://pandas.pydata.org/pandas-docs/stable/user_guide/indexing.html#returning-a-view-versus-a-copy\n",
      "  df_tweets1[\"Label\"] = df_tweets1[emotion_colname].map({'Positive emotion': 1, 'Negative emotion': 0})\n"
     ]
    }
   ],
   "source": [
    "df_tweets1[\"Label\"] = df_tweets1[emotion_colname].map({'Positive emotion': 1, 'Negative emotion': 0})"
   ]
  },
  {
   "cell_type": "code",
   "execution_count": 1347,
   "metadata": {},
   "outputs": [
    {
     "data": {
      "text/html": [
       "<div>\n",
       "<style scoped>\n",
       "    .dataframe tbody tr th:only-of-type {\n",
       "        vertical-align: middle;\n",
       "    }\n",
       "\n",
       "    .dataframe tbody tr th {\n",
       "        vertical-align: top;\n",
       "    }\n",
       "\n",
       "    .dataframe thead th {\n",
       "        text-align: right;\n",
       "    }\n",
       "</style>\n",
       "<table border=\"1\" class=\"dataframe\">\n",
       "  <thead>\n",
       "    <tr style=\"text-align: right;\">\n",
       "      <th></th>\n",
       "      <th>tweet_text</th>\n",
       "      <th>emotion_in_tweet_is_directed_at</th>\n",
       "      <th>is_there_an_emotion_directed_at_a_brand_or_product</th>\n",
       "      <th>text</th>\n",
       "      <th>Label</th>\n",
       "    </tr>\n",
       "  </thead>\n",
       "  <tbody>\n",
       "    <tr>\n",
       "      <th>0</th>\n",
       "      <td>.@wesley83 I have a 3G iPhone. After 3 hrs twe...</td>\n",
       "      <td>iPhone</td>\n",
       "      <td>Negative emotion</td>\n",
       "      <td>.@wesley83 3G iPhone. 3 hrs tweeting #RISE_Aus...</td>\n",
       "      <td>0</td>\n",
       "    </tr>\n",
       "    <tr>\n",
       "      <th>1</th>\n",
       "      <td>@jessedee Know about @fludapp ? Awesome iPad/i...</td>\n",
       "      <td>iPad or iPhone App</td>\n",
       "      <td>Positive emotion</td>\n",
       "      <td>@jessedee Know @fludapp ? Awesome iPad/iPhone ...</td>\n",
       "      <td>1</td>\n",
       "    </tr>\n",
       "  </tbody>\n",
       "</table>\n",
       "</div>"
      ],
      "text/plain": [
       "                                          tweet_text  \\\n",
       "0  .@wesley83 I have a 3G iPhone. After 3 hrs twe...   \n",
       "1  @jessedee Know about @fludapp ? Awesome iPad/i...   \n",
       "\n",
       "  emotion_in_tweet_is_directed_at  \\\n",
       "0                          iPhone   \n",
       "1              iPad or iPhone App   \n",
       "\n",
       "  is_there_an_emotion_directed_at_a_brand_or_product  \\\n",
       "0                                   Negative emotion   \n",
       "1                                   Positive emotion   \n",
       "\n",
       "                                                text  Label  \n",
       "0  .@wesley83 3G iPhone. 3 hrs tweeting #RISE_Aus...      0  \n",
       "1  @jessedee Know @fludapp ? Awesome iPad/iPhone ...      1  "
      ]
     },
     "execution_count": 1347,
     "metadata": {},
     "output_type": "execute_result"
    }
   ],
   "source": [
    "df_tweets1.head(2)"
   ]
  },
  {
   "cell_type": "markdown",
   "metadata": {
    "colab_type": "text",
    "id": "3YErwYLCH0N_"
   },
   "source": [
    "### 8 Define the feature set (independent variable or X) to be `text` column and `labels` as target (or dependent variable)  and divide into train and test datasets"
   ]
  },
  {
   "cell_type": "code",
   "execution_count": 1348,
   "metadata": {
    "colab": {},
    "colab_type": "code",
    "id": "lNkwrGgEH0OA"
   },
   "outputs": [],
   "source": [
    "df_features = vector.toarray()\n",
    "df_target = df_tweets1[\"Label\"]"
   ]
  },
  {
   "cell_type": "code",
   "execution_count": 1349,
   "metadata": {},
   "outputs": [],
   "source": [
    "from sklearn.model_selection import train_test_split\n",
    "test_size = 0.40 # taking 70:30 training and test set\n",
    "seed = 7  # Random numbmer seeding for reapeatability of the code\n",
    "X_train, X_test, y_train, y_test = train_test_split(df_features, df_target, test_size=test_size, random_state=seed)"
   ]
  },
  {
   "cell_type": "markdown",
   "metadata": {
    "colab_type": "text",
    "id": "Q5nlCuaaH0OD"
   },
   "source": [
    "## 9. **Predicting the sentiment:**\n",
    "\n",
    "\n",
    "### Use Naive Bayes and Logistic Regression and their accuracy scores for predicting the sentiment of the given text"
   ]
  },
  {
   "cell_type": "code",
   "execution_count": 1350,
   "metadata": {},
   "outputs": [],
   "source": [
    "from sklearn.linear_model import LogisticRegression\n",
    "from sklearn.naive_bayes import GaussianNB\n",
    "from sklearn.ensemble import RandomForestClassifier\n",
    "from sklearn.neighbors import KNeighborsClassifier\n",
    "from sklearn.svm import SVC\n",
    "from sklearn.tree import DecisionTreeClassifier\n",
    "from sklearn import metrics"
   ]
  },
  {
   "cell_type": "code",
   "execution_count": 1351,
   "metadata": {
    "colab": {},
    "colab_type": "code",
    "id": "2AbVYssaH0OE",
    "scrolled": true
   },
   "outputs": [
    {
     "name": "stdout",
     "output_type": "stream",
     "text": [
      "Logistic Regression: Accuracy Score\n",
      " 0.8718309859154929\n",
      "Naive Bayes: Accuracy Score\n",
      " 0.7711267605633803\n",
      "randomforest: Accuracy Score\n",
      " 0.8626760563380281\n",
      "svm: Accuracy Score\n",
      " 0.8704225352112676\n",
      "kneighbors: Accuracy Score\n",
      " 0.8535211267605634\n",
      "decisiontree: Accuracy Score\n",
      " 0.8507042253521127\n"
     ]
    }
   ],
   "source": [
    "# Logistic Regression\n",
    "lr_model = LogisticRegression()\n",
    "lr_model.fit(X_train, y_train)\n",
    "lr_model_score = lr_model.score(X_test, y_test) # get the accuracy score for testing samples\n",
    "print(\"Logistic Regression: Accuracy Score\\n\" , lr_model_score)\n",
    "\n",
    "# Naive Bayes\n",
    "nb_model = GaussianNB()\n",
    "nb_model.fit(X_train, y_train)\n",
    "nb_model_score = nb_model.score(X_test, y_test) # get the accuracy score for testing samples\n",
    "print(\"Naive Bayes: Accuracy Score\\n\" , nb_model_score)\n",
    "\n",
    "#random forest\n",
    "rf_model = RandomForestClassifier(n_estimators = 75, criterion = 'entropy', random_state = 0)\n",
    "rf_model.fit(X_train, y_train)\n",
    "rf_model_score = rf_model.score(X_test, y_test) # get the accuracy score for testing samples\n",
    "print(\"randomforest: Accuracy Score\\n\" , rf_model_score)\n",
    "      \n",
    "#svm\n",
    "model = SVC(kernel = 'linear', random_state = 0)\n",
    "model.fit(X_train, y_train)\n",
    "model_score =model.score(X_test, y_test) # get the accuracy score for testing samples\n",
    "print(\"svm: Accuracy Score\\n\" , model_score)\n",
    "#knearest\n",
    "n_model = KNeighborsClassifier(n_neighbors = 5, metric = 'minkowski', p = 2)\n",
    "n_model.fit(X_train, y_train)\n",
    "n_model_score = n_model.score(X_test, y_test) # get the accuracy score for testing samples\n",
    "print(\"kneighbors: Accuracy Score\\n\" , n_model_score)\n",
    "\n",
    "dt_model = DecisionTreeClassifier(criterion = 'entropy', random_state = 0)\n",
    "dt_model.fit(X_train, y_train)\n",
    "dt_model_score = dt_model.score(X_test, y_test) # get the accuracy score for testing samples\n",
    "print(\"decisiontree: Accuracy Score\\n\" , dt_model_score)\n"
   ]
  },
  {
   "cell_type": "code",
   "execution_count": 1352,
   "metadata": {},
   "outputs": [
    {
     "name": "stdout",
     "output_type": "stream",
     "text": [
      "Logistic Regression: Classification Report: \n",
      "\n",
      "               precision    recall  f1-score   support\n",
      "\n",
      "           0       0.74      0.32      0.45       230\n",
      "           1       0.88      0.98      0.93      1190\n",
      "\n",
      "    accuracy                           0.87      1420\n",
      "   macro avg       0.81      0.65      0.69      1420\n",
      "weighted avg       0.86      0.87      0.85      1420\n",
      "\n"
     ]
    }
   ],
   "source": [
    "y_predict = lr_model.predict(X_test)\n",
    "cr = metrics.classification_report(y_test,y_predict)\n",
    "print(\"Logistic Regression: Classification Report: \\n\\n\", cr)"
   ]
  },
  {
   "cell_type": "code",
   "execution_count": 1353,
   "metadata": {},
   "outputs": [
    {
     "name": "stdout",
     "output_type": "stream",
     "text": [
      "Naive Bayes: Classification Report: \n",
      "\n",
      "               precision    recall  f1-score   support\n",
      "\n",
      "           0       0.34      0.45      0.39       230\n",
      "           1       0.89      0.83      0.86      1190\n",
      "\n",
      "    accuracy                           0.77      1420\n",
      "   macro avg       0.62      0.64      0.62      1420\n",
      "weighted avg       0.80      0.77      0.78      1420\n",
      "\n"
     ]
    }
   ],
   "source": [
    "y_predict = nb_model.predict(X_test)\n",
    "cr = metrics.classification_report(y_test,y_predict)\n",
    "print(\"Naive Bayes: Classification Report: \\n\\n\", cr)"
   ]
  },
  {
   "cell_type": "markdown",
   "metadata": {
    "colab_type": "text",
    "id": "sw-0B33tH0Ox"
   },
   "source": [
    "## 10. Create a function called `tokenize_predict` which can take count vectorizer object as input and prints the accuracy for x (text) and y (labels)"
   ]
  },
  {
   "cell_type": "code",
   "execution_count": 1354,
   "metadata": {},
   "outputs": [],
   "source": [
    "df_features = df_tweets1[\"text\"]\n",
    "df_target = df_tweets1[\"Label\"]"
   ]
  },
  {
   "cell_type": "code",
   "execution_count": 1355,
   "metadata": {},
   "outputs": [],
   "source": [
    "from sklearn.model_selection import train_test_split\n",
    "test_size = 0.40 # taking 60:40 training and test set\n",
    "seed = 7  # Random numbmer seeding for reapeatability of the code\n",
    "\n",
    "X_train, X_test, y_train, y_test = train_test_split(df_features, df_target, test_size=test_size, random_state=seed)"
   ]
  },
  {
   "cell_type": "code",
   "execution_count": 1356,
   "metadata": {
    "colab": {},
    "colab_type": "code",
    "id": "okCTOs1TH0Oy"
   },
   "outputs": [],
   "source": [
    "from sklearn.naive_bayes import MultinomialNB\n",
    "from sklearn import metrics\n",
    "def tokenize_predict2(vectorizer, x_train, y_train, x_test, y_test):\n",
    "    x_train_dtm = vectorizer.fit_transform(x_train)\n",
    "    print('Features: ', x_train_dtm.shape[1])\n",
    "    x_test_dtm = vectorizer.transform(x_test)\n",
    "    nb = MultinomialNB()\n",
    "    nb.fit(x_train_dtm, y_train)\n",
    "    y_pred_class = nb.predict(x_test_dtm)\n",
    "    print('Accuracy: ', metrics.accuracy_score(y_test, y_pred_class))"
   ]
  },
  {
   "cell_type": "code",
   "execution_count": 1357,
   "metadata": {},
   "outputs": [
    {
     "name": "stdout",
     "output_type": "stream",
     "text": [
      "Features:  4518\n",
      "Accuracy:  0.8605633802816901\n"
     ]
    }
   ],
   "source": [
    "tokenize_predict2(vectorizer, X_train, y_train, X_test, y_test)"
   ]
  },
  {
   "cell_type": "code",
   "execution_count": 1358,
   "metadata": {},
   "outputs": [],
   "source": [
    "from sklearn.naive_bayes import ComplementNB\n",
    "from sklearn import metrics\n",
    "def tokenize_predict(vectorizer, x_train, y_train, x_test, y_test):\n",
    "    x_train_dtm = vectorizer.fit_transform(x_train)\n",
    "    print('Features: ', x_train_dtm.shape[1])\n",
    "    x_test_dtm = vectorizer.transform(x_test)\n",
    "    cb = ComplementNB()\n",
    "    cb.fit(x_train_dtm, y_train)\n",
    "    y_pred_class = cb.predict(x_test_dtm)\n",
    "    print('Accuracy: ', metrics.accuracy_score(y_test, y_pred_class))"
   ]
  },
  {
   "cell_type": "code",
   "execution_count": 1359,
   "metadata": {},
   "outputs": [
    {
     "name": "stdout",
     "output_type": "stream",
     "text": [
      "Features:  4518\n",
      "Accuracy:  0.8605633802816901\n"
     ]
    }
   ],
   "source": [
    "tokenize_predict(vectorizer, X_train, y_train, X_test, y_test)"
   ]
  },
  {
   "cell_type": "code",
   "execution_count": 1360,
   "metadata": {},
   "outputs": [],
   "source": [
    "from sklearn.naive_bayes import ComplementNB\n",
    "from sklearn import metrics\n",
    "from sklearn.model_selection import GridSearchCV\n",
    "def tokenize_predict4(vectorizer, x_train, y_train, x_test, y_test):\n",
    "    x_train_dtm = vectorizer.fit_transform(x_train)\n",
    "    print('Features: ', x_train_dtm.shape[1])\n",
    "    x_test_dtm = vectorizer.transform(x_test)\n",
    "    params = {'alpha': [0.01, 0.1, 0.5, 1.0, 10.0, ],\n",
    "         }\n",
    "    cb_grid = GridSearchCV(ComplementNB(),param_grid=params, n_jobs=-1, cv=7, verbose=5)\n",
    "    cb_grid.fit(x_train_dtm, y_train)\n",
    "    y_pred_class = cb_grid.predict(x_test_dtm)\n",
    "    print('Accuracy: ', metrics.accuracy_score(y_test, y_pred_class))"
   ]
  },
  {
   "cell_type": "code",
   "execution_count": 1361,
   "metadata": {},
   "outputs": [
    {
     "name": "stdout",
     "output_type": "stream",
     "text": [
      "Features:  4518\n",
      "Fitting 7 folds for each of 5 candidates, totalling 35 fits\n",
      "Accuracy:  0.8387323943661972\n"
     ]
    }
   ],
   "source": [
    "tokenize_predict4(vectorizer, X_train, y_train, X_test, y_test)"
   ]
  },
  {
   "cell_type": "code",
   "execution_count": 1362,
   "metadata": {},
   "outputs": [],
   "source": [
    "from sklearn.naive_bayes import GaussianNB\n",
    "from sklearn import metrics\n",
    "def tokenize_predict3(vectorizer, x_train, y_train, x_test, y_test):\n",
    "    x_train_dtm = vectorizer.fit_transform(x_train)\n",
    "    print('Features: ', x_train_dtm.shape[1])\n",
    "    x_test_dtm = vectorizer.transform(x_test)\n",
    "    gb = GaussianNB()\n",
    "    gb.fit(x_train_dtm.toarray(), y_train)\n",
    "    y_pred_class = gb.predict(x_test_dtm.toarray())\n",
    "    print('Accuracy: ', metrics.accuracy_score(y_test, y_pred_class))"
   ]
  },
  {
   "cell_type": "code",
   "execution_count": 1363,
   "metadata": {},
   "outputs": [
    {
     "name": "stdout",
     "output_type": "stream",
     "text": [
      "Features:  4518\n",
      "Accuracy:  0.7711267605633803\n"
     ]
    }
   ],
   "source": [
    "tokenize_predict3(vectorizer, X_train, y_train, X_test, y_test)"
   ]
  },
  {
   "cell_type": "code",
   "execution_count": 1364,
   "metadata": {},
   "outputs": [],
   "source": [
    "from sklearn.naive_bayes import BernoulliNB\n",
    "from sklearn import metrics\n",
    "def tokenize_predict5(vectorizer, x_train, y_train, x_test, y_test):\n",
    "    x_train_dtm = vectorizer.fit_transform(x_train)\n",
    "    print('Features: ', x_train_dtm.shape[1])\n",
    "    x_test_dtm = vectorizer.transform(x_test)\n",
    "    bb = BernoulliNB()\n",
    "    bb.fit(x_train_dtm.toarray(), y_train)\n",
    "    y_pred_class = bb.predict(x_test_dtm.toarray())\n",
    "    print('Accuracy: ', metrics.accuracy_score(y_test, y_pred_class))"
   ]
  },
  {
   "cell_type": "code",
   "execution_count": 1365,
   "metadata": {},
   "outputs": [
    {
     "name": "stdout",
     "output_type": "stream",
     "text": [
      "Features:  4518\n",
      "Accuracy:  0.8492957746478873\n"
     ]
    }
   ],
   "source": [
    "tokenize_predict5(vectorizer, X_train, y_train, X_test, y_test)"
   ]
  },
  {
   "cell_type": "code",
   "execution_count": null,
   "metadata": {},
   "outputs": [],
   "source": []
  },
  {
   "cell_type": "code",
   "execution_count": null,
   "metadata": {},
   "outputs": [],
   "source": []
  },
  {
   "cell_type": "code",
   "execution_count": null,
   "metadata": {},
   "outputs": [],
   "source": []
  },
  {
   "cell_type": "code",
   "execution_count": null,
   "metadata": {},
   "outputs": [],
   "source": []
  },
  {
   "cell_type": "markdown",
   "metadata": {
    "colab_type": "text",
    "id": "JxZ8jfPEH0O0"
   },
   "source": [
    "### 11 Create a count vectorizer function which includes n_grams = 1,2  and pass it to tokenize_predict function to print the accuracy score"
   ]
  },
  {
   "cell_type": "code",
   "execution_count": 1373,
   "metadata": {
    "colab": {},
    "colab_type": "code",
    "id": "kdCyAN_IH0O0"
   },
   "outputs": [
    {
     "name": "stdout",
     "output_type": "stream",
     "text": [
      "Features:  18632\n",
      "Accuracy:  0.8725352112676056\n"
     ]
    }
   ],
   "source": [
    "vectorizer = CountVectorizer(ngram_range=(1,2),stop_words={'english'})\n",
    "tokenize_predict(vectorizer,X_train, y_train, X_test, y_test)"
   ]
  },
  {
   "cell_type": "markdown",
   "metadata": {
    "colab_type": "text",
    "id": "axepytmgH0O4"
   },
   "source": [
    "### Q 12 Create a count vectorizer function with stopwords = 'english'  and pass it to tokenize_predict function to print the accuracy score"
   ]
  },
  {
   "cell_type": "code",
   "execution_count": 1374,
   "metadata": {
    "colab": {},
    "colab_type": "code",
    "id": "HToGkq7vH0O4"
   },
   "outputs": [
    {
     "name": "stdout",
     "output_type": "stream",
     "text": [
      "Features:  4518\n",
      "Accuracy:  0.8605633802816901\n"
     ]
    }
   ],
   "source": [
    "vectorizer = CountVectorizer(stop_words={'english'})\n",
    "tokenize_predict(vectorizer,X_train, y_train, X_test, y_test)"
   ]
  },
  {
   "cell_type": "markdown",
   "metadata": {
    "colab_type": "text",
    "id": "iOIlJRxoH0O7"
   },
   "source": [
    "### Q 13 Create a count vectorizer function with stopwords = 'english' and max_features =300  and pass it to tokenize_predict function to print the accuracy score"
   ]
  },
  {
   "cell_type": "code",
   "execution_count": 1368,
   "metadata": {
    "colab": {},
    "colab_type": "code",
    "id": "6fUhff-oH0O8"
   },
   "outputs": [
    {
     "name": "stdout",
     "output_type": "stream",
     "text": [
      "Features:  3000\n",
      "Accuracy:  0.8612676056338028\n"
     ]
    }
   ],
   "source": [
    "vectorizer = CountVectorizer(stop_words={'english'}, max_features = 3000)\n",
    "tokenize_predict2(vectorizer,X_train, y_train, X_test, y_test)"
   ]
  },
  {
   "cell_type": "markdown",
   "metadata": {
    "colab_type": "text",
    "id": "S2KZNWVkH0PA"
   },
   "source": [
    "### Q 14 Create a count vectorizer function with n_grams = 1,2  and max_features = 15000  and pass it to tokenize_predict function to print the accuracy score"
   ]
  },
  {
   "cell_type": "code",
   "execution_count": 1369,
   "metadata": {
    "colab": {},
    "colab_type": "code",
    "id": "3v9XD082H0PB"
   },
   "outputs": [
    {
     "name": "stdout",
     "output_type": "stream",
     "text": [
      "Features:  3000\n",
      "Accuracy:  0.8535211267605634\n"
     ]
    }
   ],
   "source": [
    "vectorizer = CountVectorizer(stop_words={'english'},ngram_range=(2,2),max_features =3000)\n",
    "tokenize_predict2(vectorizer,X_train, y_train, X_test, y_test)"
   ]
  },
  {
   "cell_type": "markdown",
   "metadata": {
    "colab_type": "text",
    "id": "We3JK_SRH0PO"
   },
   "source": [
    "### Q. 15 -Create a count vectorizer function with n_grams = 1,2  and include terms that appear at least 2 times (min_df = 2)  and pass it to tokenize_predict function to print the accuracy score"
   ]
  },
  {
   "cell_type": "code",
   "execution_count": 1370,
   "metadata": {
    "colab": {},
    "colab_type": "code",
    "id": "fUHrfDCyH0PP"
   },
   "outputs": [
    {
     "name": "stdout",
     "output_type": "stream",
     "text": [
      "Features:  18632\n",
      "Accuracy:  0.8725352112676056\n"
     ]
    }
   ],
   "source": [
    "vectorizer = CountVectorizer(stop_words={'english'},ngram_range=(1,2))\n",
    "tokenize_predict(vectorizer,X_train, y_train, X_test, y_test)"
   ]
  },
  {
   "cell_type": "code",
   "execution_count": null,
   "metadata": {},
   "outputs": [],
   "source": []
  },
  {
   "cell_type": "code",
   "execution_count": 1371,
   "metadata": {},
   "outputs": [
    {
     "name": "stdout",
     "output_type": "stream",
     "text": [
      "Features:  18632\n",
      "Fitting 7 folds for each of 5 candidates, totalling 35 fits\n",
      "Accuracy:  0.8401408450704225\n"
     ]
    }
   ],
   "source": [
    "tokenize_predict4(vectorizer, X_train, y_train, X_test, y_test)"
   ]
  },
  {
   "cell_type": "code",
   "execution_count": null,
   "metadata": {},
   "outputs": [],
   "source": []
  }
 ],
 "metadata": {
  "accelerator": "GPU",
  "colab": {
   "collapsed_sections": [],
   "name": "R8_Internal_Lab_Questions.ipynb",
   "provenance": [],
   "version": "0.3.2"
  },
  "kernelspec": {
   "display_name": "Python 3",
   "language": "python",
   "name": "python3"
  },
  "language_info": {
   "codemirror_mode": {
    "name": "ipython",
    "version": 3
   },
   "file_extension": ".py",
   "mimetype": "text/x-python",
   "name": "python",
   "nbconvert_exporter": "python",
   "pygments_lexer": "ipython3",
   "version": "3.8.8"
  }
 },
 "nbformat": 4,
 "nbformat_minor": 1
}
