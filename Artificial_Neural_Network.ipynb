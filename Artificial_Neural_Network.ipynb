{
  "nbformat": 4,
  "nbformat_minor": 0,
  "metadata": {
    "colab": {
      "name": "Copy of Artificial Neural Network",
      "provenance": [],
      "collapsed_sections": [],
      "include_colab_link": true
    },
    "kernelspec": {
      "name": "python3",
      "display_name": "Python 3"
    }
  },
  "cells": [
    {
      "cell_type": "markdown",
      "metadata": {
        "id": "view-in-github",
        "colab_type": "text"
      },
      "source": [
        "<a href=\"https://colab.research.google.com/github/sarthak0907/machine-learning-basics/blob/main/Artificial_Neural_Network.ipynb\" target=\"_parent\"><img src=\"https://colab.research.google.com/assets/colab-badge.svg\" alt=\"Open In Colab\"/></a>"
      ]
    },
    {
      "cell_type": "markdown",
      "metadata": {
        "id": "3cbb7fRy-eyr"
      },
      "source": [
        "# Artificial Neural Network"
      ]
    },
    {
      "cell_type": "markdown",
      "metadata": {
        "id": "8sNDnxE2-pwE"
      },
      "source": [
        "### Importing the libraries"
      ]
    },
    {
      "cell_type": "code",
      "metadata": {
        "id": "sqQOi8bt5xa-"
      },
      "source": [
        "import pandas as pd\n",
        "import numpy as np\n",
        "import tensorflow as tf\n"
      ],
      "execution_count": 17,
      "outputs": []
    },
    {
      "cell_type": "markdown",
      "metadata": {
        "id": "AG3FQEch-yuA"
      },
      "source": [
        "## Part 1 - Data Preprocessing"
      ]
    },
    {
      "cell_type": "code",
      "metadata": {
        "id": "tURgnviP5-au"
      },
      "source": [
        ""
      ],
      "execution_count": null,
      "outputs": []
    },
    {
      "cell_type": "markdown",
      "metadata": {
        "id": "-4zq8Mza_D9O"
      },
      "source": [
        "### Importing the dataset"
      ]
    },
    {
      "cell_type": "code",
      "metadata": {
        "id": "c_cKlvzf6RZ1"
      },
      "source": [
        "df = pd.read_excel('Folds5x2_pp.xlsx')\n",
        "X = df.iloc[:, :-1].values\n",
        "y = df.iloc[:, -1].values"
      ],
      "execution_count": 18,
      "outputs": []
    },
    {
      "cell_type": "markdown",
      "metadata": {
        "id": "VC6omXel_Up0"
      },
      "source": [
        "### Splitting the dataset into the Training set and Test set"
      ]
    },
    {
      "cell_type": "code",
      "metadata": {
        "id": "u4zXwU4K6YEB"
      },
      "source": [
        "from sklearn.model_selection import train_test_split\n",
        "X_train, X_test, y_train, y_test = train_test_split(X, y, test_size = 0.2, random_state = 0)"
      ],
      "execution_count": 19,
      "outputs": []
    },
    {
      "cell_type": "markdown",
      "metadata": {
        "id": "_mSLlAT9_eyI"
      },
      "source": [
        "## Part 2 - Building the ANN"
      ]
    },
    {
      "cell_type": "code",
      "metadata": {
        "id": "vFUXbbUe7p4U"
      },
      "source": [
        ""
      ],
      "execution_count": 16,
      "outputs": []
    },
    {
      "cell_type": "markdown",
      "metadata": {
        "id": "CsBULd_f_wLY"
      },
      "source": [
        "### Initializing the ANN"
      ]
    },
    {
      "cell_type": "code",
      "metadata": {
        "id": "KYQgCyrX6e4N"
      },
      "source": [
        "ann = tf.keras.models.Sequential()"
      ],
      "execution_count": 20,
      "outputs": []
    },
    {
      "cell_type": "markdown",
      "metadata": {
        "id": "iitAFJS_ABUn"
      },
      "source": [
        "### Adding the input layer and the first hidden layer"
      ]
    },
    {
      "cell_type": "code",
      "metadata": {
        "id": "8NAspIx67vHn"
      },
      "source": [
        "ann.add(tf.keras.layers.Dense(units=6, activation='relu'))"
      ],
      "execution_count": 21,
      "outputs": []
    },
    {
      "cell_type": "markdown",
      "metadata": {
        "id": "-lb4kK_wAKbs"
      },
      "source": [
        "### Adding the second hidden layer"
      ]
    },
    {
      "cell_type": "code",
      "metadata": {
        "id": "j9StGc927yIs"
      },
      "source": [
        "ann.add(tf.keras.layers.Dense(units=6, activation='relu'))"
      ],
      "execution_count": 22,
      "outputs": []
    },
    {
      "cell_type": "markdown",
      "metadata": {
        "id": "jwMOmKb3AdBY"
      },
      "source": [
        "### Adding the output layer"
      ]
    },
    {
      "cell_type": "code",
      "metadata": {
        "id": "ssNqoEBy5uHv"
      },
      "source": [
        "ann.add(tf.keras.layers.Dense(units=1 ))"
      ],
      "execution_count": 23,
      "outputs": []
    },
    {
      "cell_type": "markdown",
      "metadata": {
        "id": "fq7e4fF6A1yy"
      },
      "source": [
        "## Part 3 - Training the ANN"
      ]
    },
    {
      "cell_type": "markdown",
      "metadata": {
        "id": "qDeylAs2An25"
      },
      "source": [
        "### Compiling the ANN"
      ]
    },
    {
      "cell_type": "code",
      "metadata": {
        "id": "XwsoyJJ58TEc"
      },
      "source": [
        "ann.compile(optimizer = 'adam', loss = 'mean_squared_error', metrics=['accuracy'])"
      ],
      "execution_count": 37,
      "outputs": []
    },
    {
      "cell_type": "markdown",
      "metadata": {
        "id": "YjVuiybYOo7r"
      },
      "source": [
        "### Training the ANN model on the Training set"
      ]
    },
    {
      "cell_type": "code",
      "metadata": {
        "colab": {
          "base_uri": "https://localhost:8080/"
        },
        "id": "bwA-otlK8XBa",
        "outputId": "aac961a2-dc1b-415d-dcfc-8e3c1e2fb5eb"
      },
      "source": [
        "ann.fit(X_train, y_train, batch_size = 32, epochs = 60)"
      ],
      "execution_count": 39,
      "outputs": [
        {
          "output_type": "stream",
          "text": [
            "Epoch 1/60\n",
            "240/240 [==============================] - 0s 1ms/step - loss: 24.6260 - accuracy: 0.0000e+00\n",
            "Epoch 2/60\n",
            "240/240 [==============================] - 0s 1ms/step - loss: 24.7592 - accuracy: 0.0000e+00\n",
            "Epoch 3/60\n",
            "240/240 [==============================] - 0s 1ms/step - loss: 24.2836 - accuracy: 0.0000e+00\n",
            "Epoch 4/60\n",
            "240/240 [==============================] - 0s 1ms/step - loss: 24.6876 - accuracy: 0.0000e+00\n",
            "Epoch 5/60\n",
            "240/240 [==============================] - 0s 1ms/step - loss: 24.7297 - accuracy: 0.0000e+00\n",
            "Epoch 6/60\n",
            "240/240 [==============================] - 0s 1ms/step - loss: 24.1072 - accuracy: 0.0000e+00\n",
            "Epoch 7/60\n",
            "240/240 [==============================] - 0s 1ms/step - loss: 24.3619 - accuracy: 0.0000e+00\n",
            "Epoch 8/60\n",
            "240/240 [==============================] - 0s 1ms/step - loss: 24.1908 - accuracy: 0.0000e+00\n",
            "Epoch 9/60\n",
            "240/240 [==============================] - 0s 1ms/step - loss: 24.4707 - accuracy: 0.0000e+00\n",
            "Epoch 10/60\n",
            "240/240 [==============================] - 0s 1ms/step - loss: 24.2495 - accuracy: 0.0000e+00\n",
            "Epoch 11/60\n",
            "240/240 [==============================] - 0s 1ms/step - loss: 24.2065 - accuracy: 0.0000e+00\n",
            "Epoch 12/60\n",
            "240/240 [==============================] - 0s 1ms/step - loss: 25.0953 - accuracy: 0.0000e+00\n",
            "Epoch 13/60\n",
            "240/240 [==============================] - 0s 1ms/step - loss: 24.7187 - accuracy: 0.0000e+00\n",
            "Epoch 14/60\n",
            "240/240 [==============================] - 0s 1ms/step - loss: 24.9438 - accuracy: 0.0000e+00\n",
            "Epoch 15/60\n",
            "240/240 [==============================] - 0s 2ms/step - loss: 24.0866 - accuracy: 0.0000e+00\n",
            "Epoch 16/60\n",
            "240/240 [==============================] - 0s 1ms/step - loss: 24.2701 - accuracy: 0.0000e+00\n",
            "Epoch 17/60\n",
            "240/240 [==============================] - 0s 1ms/step - loss: 24.1638 - accuracy: 0.0000e+00\n",
            "Epoch 18/60\n",
            "240/240 [==============================] - 0s 1ms/step - loss: 24.8715 - accuracy: 0.0000e+00\n",
            "Epoch 19/60\n",
            "240/240 [==============================] - 0s 1ms/step - loss: 24.3062 - accuracy: 0.0000e+00\n",
            "Epoch 20/60\n",
            "240/240 [==============================] - 0s 1ms/step - loss: 24.3541 - accuracy: 0.0000e+00\n",
            "Epoch 21/60\n",
            "240/240 [==============================] - 0s 1ms/step - loss: 24.3435 - accuracy: 0.0000e+00\n",
            "Epoch 22/60\n",
            "240/240 [==============================] - 0s 1ms/step - loss: 24.4546 - accuracy: 0.0000e+00\n",
            "Epoch 23/60\n",
            "240/240 [==============================] - 0s 1ms/step - loss: 24.3736 - accuracy: 0.0000e+00\n",
            "Epoch 24/60\n",
            "240/240 [==============================] - 0s 1ms/step - loss: 24.2680 - accuracy: 0.0000e+00\n",
            "Epoch 25/60\n",
            "240/240 [==============================] - 0s 1ms/step - loss: 24.0559 - accuracy: 0.0000e+00\n",
            "Epoch 26/60\n",
            "240/240 [==============================] - 0s 1ms/step - loss: 24.4628 - accuracy: 0.0000e+00\n",
            "Epoch 27/60\n",
            "240/240 [==============================] - 0s 1ms/step - loss: 23.9662 - accuracy: 0.0000e+00\n",
            "Epoch 28/60\n",
            "240/240 [==============================] - 0s 1ms/step - loss: 24.1949 - accuracy: 0.0000e+00\n",
            "Epoch 29/60\n",
            "240/240 [==============================] - 0s 1ms/step - loss: 24.4365 - accuracy: 0.0000e+00\n",
            "Epoch 30/60\n",
            "240/240 [==============================] - 0s 1ms/step - loss: 24.2314 - accuracy: 0.0000e+00\n",
            "Epoch 31/60\n",
            "240/240 [==============================] - 0s 1ms/step - loss: 24.1810 - accuracy: 0.0000e+00\n",
            "Epoch 32/60\n",
            "240/240 [==============================] - 0s 1ms/step - loss: 23.9579 - accuracy: 0.0000e+00\n",
            "Epoch 33/60\n",
            "240/240 [==============================] - 0s 1ms/step - loss: 24.0313 - accuracy: 0.0000e+00\n",
            "Epoch 34/60\n",
            "240/240 [==============================] - 0s 1ms/step - loss: 24.2789 - accuracy: 0.0000e+00\n",
            "Epoch 35/60\n",
            "240/240 [==============================] - 0s 1ms/step - loss: 24.5795 - accuracy: 0.0000e+00\n",
            "Epoch 36/60\n",
            "240/240 [==============================] - 0s 1ms/step - loss: 24.0378 - accuracy: 0.0000e+00\n",
            "Epoch 37/60\n",
            "240/240 [==============================] - 0s 1ms/step - loss: 24.0050 - accuracy: 0.0000e+00\n",
            "Epoch 38/60\n",
            "240/240 [==============================] - 0s 1ms/step - loss: 24.1244 - accuracy: 0.0000e+00\n",
            "Epoch 39/60\n",
            "240/240 [==============================] - 0s 1ms/step - loss: 24.1616 - accuracy: 0.0000e+00\n",
            "Epoch 40/60\n",
            "240/240 [==============================] - 0s 1ms/step - loss: 23.9931 - accuracy: 0.0000e+00\n",
            "Epoch 41/60\n",
            "240/240 [==============================] - 0s 1ms/step - loss: 24.0711 - accuracy: 0.0000e+00\n",
            "Epoch 42/60\n",
            "240/240 [==============================] - 0s 1ms/step - loss: 24.1179 - accuracy: 0.0000e+00\n",
            "Epoch 43/60\n",
            "240/240 [==============================] - 0s 1ms/step - loss: 24.0803 - accuracy: 0.0000e+00\n",
            "Epoch 44/60\n",
            "240/240 [==============================] - 0s 1ms/step - loss: 24.2653 - accuracy: 0.0000e+00\n",
            "Epoch 45/60\n",
            "240/240 [==============================] - 0s 1ms/step - loss: 23.8771 - accuracy: 0.0000e+00\n",
            "Epoch 46/60\n",
            "240/240 [==============================] - 0s 1ms/step - loss: 24.3261 - accuracy: 0.0000e+00\n",
            "Epoch 47/60\n",
            "240/240 [==============================] - 0s 2ms/step - loss: 24.4351 - accuracy: 0.0000e+00\n",
            "Epoch 48/60\n",
            "240/240 [==============================] - 0s 1ms/step - loss: 24.4205 - accuracy: 0.0000e+00\n",
            "Epoch 49/60\n",
            "240/240 [==============================] - 0s 1ms/step - loss: 24.2555 - accuracy: 0.0000e+00\n",
            "Epoch 50/60\n",
            "240/240 [==============================] - 0s 1ms/step - loss: 24.3938 - accuracy: 0.0000e+00\n",
            "Epoch 51/60\n",
            "240/240 [==============================] - 0s 1ms/step - loss: 24.4415 - accuracy: 0.0000e+00\n",
            "Epoch 52/60\n",
            "240/240 [==============================] - 0s 1ms/step - loss: 23.9408 - accuracy: 0.0000e+00\n",
            "Epoch 53/60\n",
            "240/240 [==============================] - 0s 1ms/step - loss: 23.8520 - accuracy: 0.0000e+00\n",
            "Epoch 54/60\n",
            "240/240 [==============================] - 0s 1ms/step - loss: 23.8929 - accuracy: 0.0000e+00\n",
            "Epoch 55/60\n",
            "240/240 [==============================] - 0s 1ms/step - loss: 24.0283 - accuracy: 0.0000e+00\n",
            "Epoch 56/60\n",
            "240/240 [==============================] - 0s 1ms/step - loss: 24.3909 - accuracy: 0.0000e+00\n",
            "Epoch 57/60\n",
            "240/240 [==============================] - 0s 1ms/step - loss: 23.9757 - accuracy: 0.0000e+00\n",
            "Epoch 58/60\n",
            "240/240 [==============================] - 0s 1ms/step - loss: 24.0938 - accuracy: 0.0000e+00\n",
            "Epoch 59/60\n",
            "240/240 [==============================] - 0s 1ms/step - loss: 23.9160 - accuracy: 0.0000e+00\n",
            "Epoch 60/60\n",
            "240/240 [==============================] - 0s 1ms/step - loss: 24.1870 - accuracy: 0.0000e+00\n"
          ],
          "name": "stdout"
        },
        {
          "output_type": "execute_result",
          "data": {
            "text/plain": [
              "<tensorflow.python.keras.callbacks.History at 0x7f7b96d7aed0>"
            ]
          },
          "metadata": {
            "tags": []
          },
          "execution_count": 39
        }
      ]
    },
    {
      "cell_type": "markdown",
      "metadata": {
        "id": "0H0zKKNEBLD5"
      },
      "source": [
        "### Predicting the results of the Test set"
      ]
    },
    {
      "cell_type": "code",
      "metadata": {
        "colab": {
          "base_uri": "https://localhost:8080/"
        },
        "id": "B-BThyTg8gpb",
        "outputId": "684131c2-9d59-4386-e4d1-18e4de192ab8"
      },
      "source": [
        "y_pred = ann.predict(X_test)\n",
        "np.set_printoptions(precision=2)\n",
        "print(np.concatenate((y_pred.reshape(len(y_pred),1), y_test.reshape(len(y_test),1)),1))"
      ],
      "execution_count": 36,
      "outputs": [
        {
          "output_type": "stream",
          "text": [
            "[[432.04 431.23]\n",
            " [461.52 460.01]\n",
            " [467.18 461.14]\n",
            " ...\n",
            " [473.42 473.26]\n",
            " [440.04 438.  ]\n",
            " [457.57 463.28]]\n"
          ],
          "name": "stdout"
        }
      ]
    },
    {
      "cell_type": "code",
      "metadata": {
        "id": "VaF5stXECl62"
      },
      "source": [
        "import matplotlib.pyplot as plt\n"
      ],
      "execution_count": 40,
      "outputs": []
    },
    {
      "cell_type": "code",
      "metadata": {
        "colab": {
          "base_uri": "https://localhost:8080/",
          "height": 295
        },
        "id": "L7Fjdk6X9PcP",
        "outputId": "c561b7f3-debc-4541-b890-87c8370fae85"
      },
      "source": [
        "plt.plot(X_train, y_train, color = \"red\")\n",
        "plt.plot(X_train, ann.predict(X_train), color = \"green\")\n",
        "plt.title(\"train)\")\n",
        "plt.xlabel(\"Years of Experience\")\n",
        "plt.ylabel(\"Salary\")\n",
        "plt.show()"
      ],
      "execution_count": 47,
      "outputs": [
        {
          "output_type": "display_data",
          "data": {
            "image/png": "[encoded data removed]",
            "text/plain": [
              "<Figure size 432x288 with 1 Axes>"
            ]
          },
          "metadata": {
            "tags": [],
            "needs_background": "light"
          }
        }
      ]
    },
    {
      "cell_type": "code",
      "metadata": {
        "colab": {
          "base_uri": "https://localhost:8080/",
          "height": 295
        },
        "id": "NSM6HgSPDeqw",
        "outputId": "f0b0a24f-c4a9-4b7d-9238-a60efacbbd80"
      },
      "source": [
        "plt.plot(X_test, y_test, color = \"red\")\n",
        "plt.plot(X_train, ann.predict(X_train), color = \"blue\")\n",
        "plt.title(\"Salary vs Experience (Testing set)\")\n",
        "plt.xlabel(\"Years of Experience\")\n",
        "plt.ylabel(\"Salary\")\n",
        "plt.show()"
      ],
      "execution_count": 50,
      "outputs": [
        {
          "output_type": "display_data",
          "data": {
            "image/png": "[encoded data removed]",
            "text/plain": [
              "<Figure size 432x288 with 1 Axes>"
            ]
          },
          "metadata": {
            "tags": [],
            "needs_background": "light"
          }
        }
      ]
    }
  ]
}